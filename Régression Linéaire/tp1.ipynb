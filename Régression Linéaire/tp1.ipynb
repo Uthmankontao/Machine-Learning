{
 "cells": [
  {
   "cell_type": "markdown",
   "id": "3b3c9510",
   "metadata": {},
   "source": [
    "Ex_1"
   ]
  },
  {
   "cell_type": "code",
   "execution_count": 15,
   "id": "6ecedc6f",
   "metadata": {},
   "outputs": [],
   "source": [
    "import numpy as np\n",
    "import pandas as pd\n",
    "import seaborn as sns\n",
    "import matplotlib.pyplot as plt"
   ]
  },
  {
   "cell_type": "markdown",
   "id": "69f38ac8",
   "metadata": {},
   "source": [
    "a) Prepare data"
   ]
  },
  {
   "cell_type": "code",
   "execution_count": 9,
   "id": "b717a52f",
   "metadata": {},
   "outputs": [
    {
     "data": {
      "text/html": [
       "<div>\n",
       "<style scoped>\n",
       "    .dataframe tbody tr th:only-of-type {\n",
       "        vertical-align: middle;\n",
       "    }\n",
       "\n",
       "    .dataframe tbody tr th {\n",
       "        vertical-align: top;\n",
       "    }\n",
       "\n",
       "    .dataframe thead th {\n",
       "        text-align: right;\n",
       "    }\n",
       "</style>\n",
       "<table border=\"1\" class=\"dataframe\">\n",
       "  <thead>\n",
       "    <tr style=\"text-align: right;\">\n",
       "      <th></th>\n",
       "      <th>Unnamed: 0</th>\n",
       "      <th>lcavol</th>\n",
       "      <th>lweight</th>\n",
       "      <th>age</th>\n",
       "      <th>lbph</th>\n",
       "      <th>svi</th>\n",
       "      <th>lcp</th>\n",
       "      <th>gleason</th>\n",
       "      <th>pgg45</th>\n",
       "      <th>lpsa</th>\n",
       "      <th>train</th>\n",
       "    </tr>\n",
       "  </thead>\n",
       "  <tbody>\n",
       "    <tr>\n",
       "      <th>0</th>\n",
       "      <td>1</td>\n",
       "      <td>-0.579818</td>\n",
       "      <td>2.769459</td>\n",
       "      <td>50</td>\n",
       "      <td>-1.386294</td>\n",
       "      <td>0</td>\n",
       "      <td>-1.386294</td>\n",
       "      <td>6</td>\n",
       "      <td>0</td>\n",
       "      <td>-0.430783</td>\n",
       "      <td>T</td>\n",
       "    </tr>\n",
       "    <tr>\n",
       "      <th>1</th>\n",
       "      <td>2</td>\n",
       "      <td>-0.994252</td>\n",
       "      <td>3.319626</td>\n",
       "      <td>58</td>\n",
       "      <td>-1.386294</td>\n",
       "      <td>0</td>\n",
       "      <td>-1.386294</td>\n",
       "      <td>6</td>\n",
       "      <td>0</td>\n",
       "      <td>-0.162519</td>\n",
       "      <td>T</td>\n",
       "    </tr>\n",
       "    <tr>\n",
       "      <th>2</th>\n",
       "      <td>3</td>\n",
       "      <td>-0.510826</td>\n",
       "      <td>2.691243</td>\n",
       "      <td>74</td>\n",
       "      <td>-1.386294</td>\n",
       "      <td>0</td>\n",
       "      <td>-1.386294</td>\n",
       "      <td>7</td>\n",
       "      <td>20</td>\n",
       "      <td>-0.162519</td>\n",
       "      <td>T</td>\n",
       "    </tr>\n",
       "    <tr>\n",
       "      <th>3</th>\n",
       "      <td>4</td>\n",
       "      <td>-1.203973</td>\n",
       "      <td>3.282789</td>\n",
       "      <td>58</td>\n",
       "      <td>-1.386294</td>\n",
       "      <td>0</td>\n",
       "      <td>-1.386294</td>\n",
       "      <td>6</td>\n",
       "      <td>0</td>\n",
       "      <td>-0.162519</td>\n",
       "      <td>T</td>\n",
       "    </tr>\n",
       "    <tr>\n",
       "      <th>4</th>\n",
       "      <td>5</td>\n",
       "      <td>0.751416</td>\n",
       "      <td>3.432373</td>\n",
       "      <td>62</td>\n",
       "      <td>-1.386294</td>\n",
       "      <td>0</td>\n",
       "      <td>-1.386294</td>\n",
       "      <td>6</td>\n",
       "      <td>0</td>\n",
       "      <td>0.371564</td>\n",
       "      <td>T</td>\n",
       "    </tr>\n",
       "    <tr>\n",
       "      <th>...</th>\n",
       "      <td>...</td>\n",
       "      <td>...</td>\n",
       "      <td>...</td>\n",
       "      <td>...</td>\n",
       "      <td>...</td>\n",
       "      <td>...</td>\n",
       "      <td>...</td>\n",
       "      <td>...</td>\n",
       "      <td>...</td>\n",
       "      <td>...</td>\n",
       "      <td>...</td>\n",
       "    </tr>\n",
       "    <tr>\n",
       "      <th>92</th>\n",
       "      <td>93</td>\n",
       "      <td>2.830268</td>\n",
       "      <td>3.876396</td>\n",
       "      <td>68</td>\n",
       "      <td>-1.386294</td>\n",
       "      <td>1</td>\n",
       "      <td>1.321756</td>\n",
       "      <td>7</td>\n",
       "      <td>60</td>\n",
       "      <td>4.385147</td>\n",
       "      <td>T</td>\n",
       "    </tr>\n",
       "    <tr>\n",
       "      <th>93</th>\n",
       "      <td>94</td>\n",
       "      <td>3.821004</td>\n",
       "      <td>3.896909</td>\n",
       "      <td>44</td>\n",
       "      <td>-1.386294</td>\n",
       "      <td>1</td>\n",
       "      <td>2.169054</td>\n",
       "      <td>7</td>\n",
       "      <td>40</td>\n",
       "      <td>4.684443</td>\n",
       "      <td>T</td>\n",
       "    </tr>\n",
       "    <tr>\n",
       "      <th>94</th>\n",
       "      <td>95</td>\n",
       "      <td>2.907447</td>\n",
       "      <td>3.396185</td>\n",
       "      <td>52</td>\n",
       "      <td>-1.386294</td>\n",
       "      <td>1</td>\n",
       "      <td>2.463853</td>\n",
       "      <td>7</td>\n",
       "      <td>10</td>\n",
       "      <td>5.143124</td>\n",
       "      <td>F</td>\n",
       "    </tr>\n",
       "    <tr>\n",
       "      <th>95</th>\n",
       "      <td>96</td>\n",
       "      <td>2.882564</td>\n",
       "      <td>3.773910</td>\n",
       "      <td>68</td>\n",
       "      <td>1.558145</td>\n",
       "      <td>1</td>\n",
       "      <td>1.558145</td>\n",
       "      <td>7</td>\n",
       "      <td>80</td>\n",
       "      <td>5.477509</td>\n",
       "      <td>T</td>\n",
       "    </tr>\n",
       "    <tr>\n",
       "      <th>96</th>\n",
       "      <td>97</td>\n",
       "      <td>3.471966</td>\n",
       "      <td>3.974998</td>\n",
       "      <td>68</td>\n",
       "      <td>0.438255</td>\n",
       "      <td>1</td>\n",
       "      <td>2.904165</td>\n",
       "      <td>7</td>\n",
       "      <td>20</td>\n",
       "      <td>5.582932</td>\n",
       "      <td>F</td>\n",
       "    </tr>\n",
       "  </tbody>\n",
       "</table>\n",
       "<p>97 rows × 11 columns</p>\n",
       "</div>"
      ],
      "text/plain": [
       "    Unnamed: 0    lcavol   lweight  age      lbph  svi       lcp  gleason  \\\n",
       "0            1 -0.579818  2.769459   50 -1.386294    0 -1.386294        6   \n",
       "1            2 -0.994252  3.319626   58 -1.386294    0 -1.386294        6   \n",
       "2            3 -0.510826  2.691243   74 -1.386294    0 -1.386294        7   \n",
       "3            4 -1.203973  3.282789   58 -1.386294    0 -1.386294        6   \n",
       "4            5  0.751416  3.432373   62 -1.386294    0 -1.386294        6   \n",
       "..         ...       ...       ...  ...       ...  ...       ...      ...   \n",
       "92          93  2.830268  3.876396   68 -1.386294    1  1.321756        7   \n",
       "93          94  3.821004  3.896909   44 -1.386294    1  2.169054        7   \n",
       "94          95  2.907447  3.396185   52 -1.386294    1  2.463853        7   \n",
       "95          96  2.882564  3.773910   68  1.558145    1  1.558145        7   \n",
       "96          97  3.471966  3.974998   68  0.438255    1  2.904165        7   \n",
       "\n",
       "    pgg45      lpsa train  \n",
       "0       0 -0.430783     T  \n",
       "1       0 -0.162519     T  \n",
       "2      20 -0.162519     T  \n",
       "3       0 -0.162519     T  \n",
       "4       0  0.371564     T  \n",
       "..    ...       ...   ...  \n",
       "92     60  4.385147     T  \n",
       "93     40  4.684443     T  \n",
       "94     10  5.143124     F  \n",
       "95     80  5.477509     T  \n",
       "96     20  5.582932     F  \n",
       "\n",
       "[97 rows x 11 columns]"
      ]
     },
     "execution_count": 9,
     "metadata": {},
     "output_type": "execute_result"
    }
   ],
   "source": [
    "url_data = \"https://web.stanford.edu/~hastie/ElemStatLearn/datasets/prostate.data\"\n",
    "df = pd.read_csv(url_data, delimiter='\\t')\n",
    "df"
   ]
  },
  {
   "cell_type": "markdown",
   "id": "c086f935",
   "metadata": {},
   "source": [
    "b) Extract and normalize the explicative variables"
   ]
  },
  {
   "cell_type": "code",
   "execution_count": 10,
   "id": "d9e9e5e1",
   "metadata": {},
   "outputs": [],
   "source": [
    "variables = df.columns[1:9]\n",
    "df[variables] = df[variables].apply(lambda x: (x - x.mean()) / x.std())"
   ]
  },
  {
   "cell_type": "markdown",
   "id": "d612d5f7",
   "metadata": {},
   "source": [
    "<!-- Is it wise to normalize these data? -->c) --> Yes it is because all the variables might be on the same scale"
   ]
  },
  {
   "cell_type": "markdown",
   "id": "0e2dc270",
   "metadata": {},
   "source": [
    "d) Split the dataset into training and test data"
   ]
  },
  {
   "cell_type": "code",
   "execution_count": 11,
   "id": "19124273",
   "metadata": {},
   "outputs": [
    {
     "name": "stdout",
     "output_type": "stream",
     "text": [
      "Training set : n = 67 samples and p = 8 dimensions\n",
      "Test set : n = 30 samples and p = 8 dimensions\n"
     ]
    }
   ],
   "source": [
    "Y_train = df.loc[df[\"train\"]==\"T\", 'lpsa'].to_numpy()\n",
    "X_train = df.loc[df[\"train\"]==\"T\", variables].to_numpy()\n",
    "print(\"Training set : n = {} samples and p = {} dimensions\".format(X_train.shape[0],X_train.shape[1]))\n",
    "Y_test = df.loc[df[\"train\"]==\"F\", 'lpsa'].to_numpy()\n",
    "X_test = df.loc[df[\"train\"]==\"F\", variables].to_numpy()\n",
    "print(\"Test set : n = {} samples and p = {} dimensions\".format(X_test.shape[0], X_test.shape[1]))"
   ]
  },
  {
   "cell_type": "markdown",
   "id": "45d62844",
   "metadata": {},
   "source": [
    "Compute the correlations of predictors in the prostate cancer data as presented Table 3.1"
   ]
  },
  {
   "cell_type": "code",
   "execution_count": 19,
   "id": "b767969e",
   "metadata": {},
   "outputs": [
    {
     "data": {
      "text/plain": [
       "<Axes: >"
      ]
     },
     "execution_count": 19,
     "metadata": {},
     "output_type": "execute_result"
    },
    {
     "data": {
      "image/png": "[encoded data removed]",
      "text/plain": [
       "<Figure size 600x400 with 2 Axes>"
      ]
     },
     "metadata": {},
     "output_type": "display_data"
    }
   ],
   "source": [
    "Xn = (X_train - X_train.mean(axis=0))/X_train.std(axis=0)\n",
    "n, p = Xn.shape\n",
    "C = Xn.T@Xn/n # on contrôle tout ce qu'on fait \n",
    "# or C = np.corrcoef(X_train.T) # par contre la fonction est compilée et on ne sait pas ce qui se fait\n",
    "plt.figure(figsize=(6, 4))\n",
    "sns.heatmap(C, annot=True, fmt=\".3f\", vmin=-1)\n"
   ]
  },
  {
   "cell_type": "markdown",
   "id": "c664f3aa",
   "metadata": {},
   "source": [
    "Reproduce the results presented Table 3.2 <br>\n",
    "a) Compute the coefficients of the linear regression model, without using the lm function\n",
    "(but you can use it validate your code)"
   ]
  },
  {
   "cell_type": "code",
   "execution_count": 21,
   "id": "706d728d",
   "metadata": {},
   "outputs": [
    {
     "name": "stdout",
     "output_type": "stream",
     "text": [
      "[ 2.46493292  0.67952814  0.26305307 -0.14146483  0.21014656  0.3052006\n",
      " -0.28849277 -0.02130504  0.26695576]\n"
     ]
    }
   ],
   "source": [
    "X = np.concatenate((np.ones((X_train.shape[0],1)), X_train), axis=1)\n",
    "b_ls = np.linalg.solve(X.T@X, X.T@Y_train) # Factorisation de cholesky\n",
    "print(b_ls)"
   ]
  },
  {
   "cell_type": "markdown",
   "id": "1b6322db",
   "metadata": {},
   "source": [
    "b) Compute the prediction error"
   ]
  },
  {
   "cell_type": "code",
   "execution_count": 28,
   "id": "ba44fea6",
   "metadata": {},
   "outputs": [
    {
     "name": "stdout",
     "output_type": "stream",
     "text": [
      "The size of the dataset or matrix X is (67x9)\n",
      "The y predicted is --> [0.75353858 0.70040498 0.44906559 0.55687338 1.700083   0.76462172\n",
      " 2.23169054 1.46213549 0.95764547 2.01839575 1.77468627 1.85140133\n",
      " 1.39943465 2.28081126 1.24066142 1.90227158 1.97740214 1.06025544\n",
      " 2.56035833 2.19369936 2.25005272 1.94428706 2.14202486 1.97291915\n",
      " 0.98846838 1.58796666 0.95575097 3.86245665 1.68493079 2.15305679\n",
      " 2.12067165 2.45045739 2.62328973 4.09638    2.57075566 3.17981669\n",
      " 3.06252822 2.39221612 2.30957586 2.89233974 2.52992457 2.93714431\n",
      " 3.12648065 3.12713435 1.4759386  3.02721263 3.19521036 2.25589475\n",
      " 3.33590171 3.44930283 3.50837247 3.59520175 3.30376434 2.11377357\n",
      " 2.87284884 3.48312979 2.62355283 3.6956864  3.13189774 2.87004781\n",
      " 4.09922459 3.36357643 3.43564731 4.14249256 3.77414281 4.44984337\n",
      " 4.30839196]\n"
     ]
    }
   ],
   "source": [
    "n, p = X.shape\n",
    "y_hat = X@b_ls\n",
    "err = Y_train - y_hat\n",
    "\n",
    "print(f\"The size of the dataset or matrix X is ({n}x{p})\")\n",
    "print(f\"The y predicted is --> {y_hat}\")"
   ]
  },
  {
   "cell_type": "markdown",
   "id": "18711490",
   "metadata": {},
   "source": [
    "c) Compute the standard error for each variable"
   ]
  },
  {
   "cell_type": "code",
   "execution_count": 30,
   "id": "9e8cd72a",
   "metadata": {},
   "outputs": [
    {
     "name": "stdout",
     "output_type": "stream",
     "text": [
      "[0.08931498 0.12662903 0.09562821 0.10134245 0.10221904 0.12360027\n",
      " 0.15452934 0.14524723 0.15361357]\n"
     ]
    }
   ],
   "source": [
    "sigma_square = np.dot(Y_train - y_hat, Y_train - y_hat)/(n-p)\n",
    "vector_v = np.diag(np.linalg.inv(X.T@X))\n",
    "std_error_coef = np.sqrt(sigma_square * vector_v)\n",
    "print(std_error_coef)"
   ]
  },
  {
   "cell_type": "markdown",
   "id": "cc491d0b",
   "metadata": {},
   "source": [
    "d) compute the Z score for each variable"
   ]
  },
  {
   "cell_type": "code",
   "execution_count": 32,
   "id": "937dbef2",
   "metadata": {},
   "outputs": [
    {
     "name": "stdout",
     "output_type": "stream",
     "text": [
      "z_score = [27.59820312  5.36629046  2.75078939 -1.39590898  2.05584563  2.46925518\n",
      " -1.86691264 -0.14668121  1.73783972]\n"
     ]
    }
   ],
   "source": [
    "z_score = b_ls/(std_error_coef)\n",
    "print(f\"z_score = {z_score}\")"
   ]
  },
  {
   "cell_type": "markdown",
   "id": "8f308b64",
   "metadata": {},
   "source": [
    "e) visualize the results and compare with table 3.2"
   ]
  },
  {
   "cell_type": "code",
   "execution_count": 33,
   "id": "4c8b6599",
   "metadata": {},
   "outputs": [
    {
     "name": "stdout",
     "output_type": "stream",
     "text": [
      "--------------------------------------------------\n",
      "Term       Coef           Std. error   Z score   \n",
      "--------------------------------------------------\n",
      "Intercept         2.46        0.09       27.60\n",
      "lcavol            0.68        0.13        5.37\n",
      "lweight           0.26        0.10        2.75\n",
      "age              -0.14        0.10       -1.40\n",
      "lbph              0.21        0.10        2.06\n",
      "svi               0.31        0.12        2.47\n",
      "lcp              -0.29        0.15       -1.87\n",
      "gleason          -0.02        0.15       -0.15\n",
      "pgg45             0.27        0.15        1.74\n",
      "--------------------------------------------------\n"
     ]
    }
   ],
   "source": [
    "dash = '-' * 50\n",
    "print(dash)\n",
    "print(\"{:<11s}{:<15s}{:<13s}{:<10s}\".format(\"Term\", \"Coef\", \"Std. error\",\"Z score\"))\n",
    "print(dash)\n",
    "for k in range(variables.shape[0]+1):\n",
    "    if k==0:\n",
    "        print(\"{:<10s}{:>12.2f}{:>12.2f}{:>12.2f}\".format(\"Intercept\", b_ls[k], std_error_coef[k], z_score[k]))\n",
    "    else:\n",
    "        print(\"{:<10s}{:>12.2f}{:>12.2f}{:>12.2f}\".format(variables[k-1], b_ls[k], std_error_coef[k], z_score[k]))\n",
    "print(dash)"
   ]
  },
  {
   "cell_type": "markdown",
   "id": "0e221aea",
   "metadata": {},
   "source": [
    "Ex_3  MY TURN"
   ]
  },
  {
   "cell_type": "code",
   "execution_count": 34,
   "id": "bfaad561",
   "metadata": {},
   "outputs": [],
   "source": [
    "def best_subset(X, Y):\n",
    "    X_best = X[:, [1, 2]]\n",
    "    b_best = np.linalg.solve(X_best.T@X_best, X_best.T@Y)\n",
    "    return b_best\n",
    "\n",
    "def ridge_regression_1(X, Y, lambda_):\n",
    "    n, p = X.shape\n",
    "    X_cent = X - X.mean()\n",
    "    Y_cent = Y - Y.mean()\n",
    "    I = np.eye(p)\n",
    "    b_ridge = np.linalg.solve(X_cent.T@X_cent + lambda_*I, X_cent.T@Y_cent)\n",
    "    intercept = Y.mean() - X.mean(0).T@b_ridge\n",
    "    return b_ridge, intercept\n",
    "\n",
    "def ridge_regression_2(X, Y, lambda_):\n",
    "    n, p = X.shape\n",
    "    I = np.eye(p)\n",
    "    I[0,0] = 0\n",
    "    b_ridge = np.linalg.solve(X.T@X + lambda_*I, X.T@Y)\n",
    "    return b_ridge"
   ]
  },
  {
   "cell_type": "code",
   "execution_count": 35,
   "id": "b77c1e2a",
   "metadata": {},
   "outputs": [
    {
     "name": "stdout",
     "output_type": "stream",
     "text": [
      "[0.66741006 0.32346521]\n"
     ]
    }
   ],
   "source": [
    "best_subset_v = best_subset(X, Y_train)\n",
    "print(best_subset_v)"
   ]
  },
  {
   "cell_type": "code",
   "execution_count": 37,
   "id": "07a11367",
   "metadata": {},
   "outputs": [
    {
     "name": "stdout",
     "output_type": "stream",
     "text": [
      "[ 0.11726081  0.41758646  0.2362727  -0.04408531  0.15695477  0.22524404\n",
      " -0.00277149  0.03500725  0.13592439]\n",
      "2.3457736898088157\n"
     ]
    }
   ],
   "source": [
    "ridge, best_inter= ridge_regression_1(X, Y_train, 24.25)\n",
    "print(ridge)\n",
    "print(best_inter)"
   ]
  },
  {
   "cell_type": "code",
   "execution_count": 38,
   "id": "a9f993d9",
   "metadata": {},
   "outputs": [
    {
     "name": "stdout",
     "output_type": "stream",
     "text": [
      "[ 2.46412081e+00  4.19663383e-01  2.38473028e-01 -4.74814079e-02\n",
      "  1.61937494e-01  2.26666822e-01  9.23296891e-04  4.12268338e-02\n",
      "  1.32083867e-01]\n"
     ]
    }
   ],
   "source": [
    "ridge = ridge_regression_2(X, Y_train, 24.25)\n",
    "print(ridge)"
   ]
  },
  {
   "cell_type": "code",
   "execution_count": 39,
   "id": "4290ef04",
   "metadata": {},
   "outputs": [
    {
     "data": {
      "text/plain": [
       "np.float64(2.4523450850746267)"
      ]
     },
     "execution_count": 39,
     "metadata": {},
     "output_type": "execute_result"
    }
   ],
   "source": [
    "best_0 = np.sum(Y_train)/X.shape[0]\n",
    "best_0"
   ]
  }
 ],
 "metadata": {
  "kernelspec": {
   "display_name": "Python 3",
   "language": "python",
   "name": "python3"
  },
  "language_info": {
   "codemirror_mode": {
    "name": "ipython",
    "version": 3
   },
   "file_extension": ".py",
   "mimetype": "text/x-python",
   "name": "python",
   "nbconvert_exporter": "python",
   "pygments_lexer": "ipython3",
   "version": "3.12.9"
  }
 },
 "nbformat": 4,
 "nbformat_minor": 5
}
