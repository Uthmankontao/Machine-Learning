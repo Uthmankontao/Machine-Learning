{
 "cells": [
  {
   "cell_type": "code",
   "execution_count": 6,
   "id": "3d4f079c",
   "metadata": {},
   "outputs": [
    {
     "name": "stdout",
     "output_type": "stream",
     "text": [
      "states: [ 0  1  2  3  4  5  6  7  8  9 10 11 12 13 14 15]\n",
      "actions: ['UP', 'RIGHT', 'DOWN', 'LEFT']\n",
      "uniform policy: {0: {'UP': 0.25, 'RIGHT': 0.25, 'DOWN': 0.25, 'LEFT': 0.25}, 1: {'UP': 0.25, 'RIGHT': 0.25, 'DOWN': 0.25, 'LEFT': 0.25}, 2: {'UP': 0.25, 'RIGHT': 0.25, 'DOWN': 0.25, 'LEFT': 0.25}, 3: {'UP': 0.25, 'RIGHT': 0.25, 'DOWN': 0.25, 'LEFT': 0.25}, 4: {'UP': 0.25, 'RIGHT': 0.25, 'DOWN': 0.25, 'LEFT': 0.25}, 5: {'UP': 0.25, 'RIGHT': 0.25, 'DOWN': 0.25, 'LEFT': 0.25}, 6: {'UP': 0.25, 'RIGHT': 0.25, 'DOWN': 0.25, 'LEFT': 0.25}, 7: {'UP': 0.25, 'RIGHT': 0.25, 'DOWN': 0.25, 'LEFT': 0.25}, 8: {'UP': 0.25, 'RIGHT': 0.25, 'DOWN': 0.25, 'LEFT': 0.25}, 9: {'UP': 0.25, 'RIGHT': 0.25, 'DOWN': 0.25, 'LEFT': 0.25}, 10: {'UP': 0.25, 'RIGHT': 0.25, 'DOWN': 0.25, 'LEFT': 0.25}, 11: {'UP': 0.25, 'RIGHT': 0.25, 'DOWN': 0.25, 'LEFT': 0.25}, 12: {'UP': 0.25, 'RIGHT': 0.25, 'DOWN': 0.25, 'LEFT': 0.25}, 13: {'UP': 0.25, 'RIGHT': 0.25, 'DOWN': 0.25, 'LEFT': 0.25}, 14: {'UP': 0.25, 'RIGHT': 0.25, 'DOWN': 0.25, 'LEFT': 0.25}, 15: {'UP': 0.25, 'RIGHT': 0.25, 'DOWN': 0.25, 'LEFT': 0.25}}\n",
      "0 : {'UP': (np.int64(0), 0.0, True), 'RIGHT': (np.int64(0), 0.0, True), 'DOWN': (np.int64(0), 0.0, True), 'LEFT': (np.int64(0), 0.0, True)}\n",
      "1 : {'UP': (1, -1.0, False), 'RIGHT': (2, -1.0, False), 'DOWN': (5, -1.0, False), 'LEFT': (0, -1.0, True)}\n",
      "2 : {'UP': (2, -1.0, False), 'RIGHT': (3, -1.0, False), 'DOWN': (6, -1.0, False), 'LEFT': (1, -1.0, False)}\n",
      "3 : {'UP': (3, -1.0, False), 'RIGHT': (3, -1.0, False), 'DOWN': (7, -1.0, False), 'LEFT': (2, -1.0, False)}\n",
      "4 : {'UP': (0, -1.0, True), 'RIGHT': (5, -1.0, False), 'DOWN': (8, -1.0, False), 'LEFT': (4, -1.0, False)}\n",
      "5 : {'UP': (1, -1.0, False), 'RIGHT': (6, -1.0, False), 'DOWN': (9, -1.0, False), 'LEFT': (4, -1.0, False)}\n",
      "6 : {'UP': (2, -1.0, False), 'RIGHT': (7, -1.0, False), 'DOWN': (10, -1.0, False), 'LEFT': (5, -1.0, False)}\n",
      "7 : {'UP': (3, -1.0, False), 'RIGHT': (7, -1.0, False), 'DOWN': (11, -1.0, False), 'LEFT': (6, -1.0, False)}\n",
      "8 : {'UP': (4, -1.0, False), 'RIGHT': (9, -1.0, False), 'DOWN': (12, -1.0, False), 'LEFT': (8, -1.0, False)}\n",
      "9 : {'UP': (5, -1.0, False), 'RIGHT': (10, -1.0, False), 'DOWN': (13, -1.0, False), 'LEFT': (8, -1.0, False)}\n",
      "10 : {'UP': (6, -1.0, False), 'RIGHT': (11, -1.0, False), 'DOWN': (14, -1.0, False), 'LEFT': (9, -1.0, False)}\n",
      "11 : {'UP': (7, -1.0, False), 'RIGHT': (11, -1.0, False), 'DOWN': (15, -1.0, True), 'LEFT': (10, -1.0, False)}\n",
      "12 : {'UP': (8, -1.0, False), 'RIGHT': (13, -1.0, False), 'DOWN': (12, -1.0, False), 'LEFT': (12, -1.0, False)}\n",
      "13 : {'UP': (9, -1.0, False), 'RIGHT': (14, -1.0, False), 'DOWN': (13, -1.0, False), 'LEFT': (12, -1.0, False)}\n",
      "14 : {'UP': (10, -1.0, False), 'RIGHT': (15, -1.0, True), 'DOWN': (14, -1.0, False), 'LEFT': (13, -1.0, False)}\n",
      "15 : {'UP': (np.int64(15), 0.0, True), 'RIGHT': (np.int64(15), 0.0, True), 'DOWN': (np.int64(15), 0.0, True), 'LEFT': (np.int64(15), 0.0, True)}\n"
     ]
    }
   ],
   "source": [
    "from forTp2 import Grid\n",
    "GRID_SIZE = 4\n",
    "TERMINAL_STATES = [0, GRID_SIZE*GRID_SIZE-1]\n",
    "P= {}\n",
    "my_grid = Grid(GRID_SIZE=GRID_SIZE, TERMINAL_STATES=TERMINAL_STATES)\n",
    "print(f\"states: {my_grid.states}\\nactions: {my_grid.actions}\\nuniform policy: {my_grid.uniform_policy}\")\n",
    "P = my_grid.uniformize(P)\n",
    "for _ in P:\n",
    "    print(_, \":\", P[_])"
   ]
  },
  {
   "cell_type": "code",
   "execution_count": 7,
   "id": "e23feb7a-33cf-40a7-9845-e449b35aae4a",
   "metadata": {},
   "outputs": [],
   "source": [
    "from forTp2 import Grid\n",
    "GRID_SIZE = 4\n",
    "TERMINAL_STATES = [0, GRID_SIZE * GRID_SIZE - 1]\n",
    "\n",
    "env = Grid(GRID_SIZE, TERMINAL_STATES)"
   ]
  },
  {
   "cell_type": "code",
   "execution_count": 8,
   "id": "fa7fa713-39e2-4d34-8621-71e911bf8313",
   "metadata": {},
   "outputs": [
    {
     "name": "stdout",
     "output_type": "stream",
     "text": [
      "=== Policy Evaluation (uniform) ===\n",
      "  0.00 -14.00 -20.00 -22.00 \n",
      "-14.00 -18.00 -20.00 -20.00 \n",
      "-20.00 -20.00 -18.00 -14.00 \n",
      "-22.00 -20.00 -14.00   0.00 \n"
     ]
    }
   ],
   "source": [
    "print(\"=== Policy Evaluation (uniform) ===\")\n",
    "V_eval = env.policy_evaluation()\n",
    "env.print_values(V_eval)\n"
   ]
  },
  {
   "cell_type": "code",
   "execution_count": 9,
   "id": "fd03b364-5ccf-4441-8672-fa8cd159c3ab",
   "metadata": {},
   "outputs": [
    {
     "name": "stdout",
     "output_type": "stream",
     "text": [
      "=== Policy Iteration ===\n",
      "  0.00  -1.00  -2.00  -3.00 \n",
      " -1.00  -2.00  -3.00  -2.00 \n",
      " -2.00  -3.00  -2.00  -1.00 \n",
      " -3.00  -2.00  -1.00   0.00 \n",
      " T   ←   ←   ↓  \n",
      " ↑   ↑   ↑   ↓  \n",
      " ↑   ↑   →   ↓  \n",
      " ↑   →   →   T  \n"
     ]
    }
   ],
   "source": [
    "print(\"=== Policy Iteration ===\")\n",
    "policy_pi, V_pi = env.policy_iteration()\n",
    "env.print_values(V_pi)\n",
    "env.print_policy(policy_pi)\n"
   ]
  },
  {
   "cell_type": "code",
   "execution_count": 10,
   "id": "75a9bf61-c18c-4e73-81ac-ea252ad16877",
   "metadata": {},
   "outputs": [
    {
     "name": "stdout",
     "output_type": "stream",
     "text": [
      "=== Value Iteration ===\n",
      "  0.00  -1.00  -2.00  -3.00 \n",
      " -1.00  -2.00  -3.00  -2.00 \n",
      " -2.00  -3.00  -2.00  -1.00 \n",
      " -3.00  -2.00  -1.00   0.00 \n",
      " T   ←   ←   ↓  \n",
      " ↑   ↑   ↑   ↓  \n",
      " ↑   ↑   →   ↓  \n",
      " ↑   →   →   T  \n"
     ]
    }
   ],
   "source": [
    "print(\"=== Value Iteration ===\")\n",
    "V_vi, policy_vi = env.value_iteration()\n",
    "env.print_values(V_vi)\n",
    "env.print_policy(policy_vi)\n"
   ]
  }
 ],
 "metadata": {
  "kernelspec": {
   "display_name": "Python 3.12",
   "language": "python",
   "name": "python3.12"
  },
  "language_info": {
   "codemirror_mode": {
    "name": "ipython",
    "version": 3
   },
   "file_extension": ".py",
   "mimetype": "text/x-python",
   "name": "python",
   "nbconvert_exporter": "python",
   "pygments_lexer": "ipython3",
   "version": "3.12.5"
  }
 },
 "nbformat": 4,
 "nbformat_minor": 5
}
