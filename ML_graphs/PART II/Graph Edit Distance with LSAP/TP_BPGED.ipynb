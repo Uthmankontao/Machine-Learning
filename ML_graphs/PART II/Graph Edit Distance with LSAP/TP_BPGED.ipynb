{
 "cells": [
  {
   "cell_type": "markdown",
   "id": "d8b21eda",
   "metadata": {},
   "source": [
    "# TP Bi-Partite Graph Edit Distance"
   ]
  },
  {
   "cell_type": "markdown",
   "id": "4f1c8a32",
   "metadata": {},
   "source": [
    "## 1) Costs Matrices :"
   ]
  },
  {
   "cell_type": "markdown",
   "id": "5f5c95df",
   "metadata": {},
   "source": [
    "We will use the toy problem again to test the implementations of the different functions."
   ]
  },
  {
   "cell_type": "code",
   "execution_count": 9,
   "id": "bd6227ed",
   "metadata": {},
   "outputs": [],
   "source": [
    "from GED_lib import graph_loader,path_Dijkstra,draw_pair_graph,make_pair_tree,draw_tree,draw_path\n",
    "import networkx as nx\n",
    "import numpy as np\n",
    "%matplotlib inline"
   ]
  },
  {
   "cell_type": "code",
   "execution_count": 10,
   "id": "9f23c687",
   "metadata": {},
   "outputs": [],
   "source": [
    "g1_toy = nx.Graph()\n",
    "g1_toy.add_node(0,node_label = \"O\")\n",
    "g1_toy.add_node(1,node_label = \"C\")\n",
    "g1_toy.add_node(2,node_label = \"O\")\n",
    "g1_toy.add_node(3,node_label = \"N\")\n",
    "g1_toy.add_edge(0,1,edge_label = 1)\n",
    "g1_toy.add_edge(1,2,edge_label = 1)\n",
    "g1_toy.add_edge(2,3,edge_label = 1)\n",
    "g1_toy.add_edge(3,1,edge_label = 1)\n",
    "\n",
    "g2_toy = nx.Graph()\n",
    "g2_toy.add_node(0,node_label = \"N\")\n",
    "g2_toy.add_node(1,node_label = \"C\")\n",
    "g2_toy.add_node(2,node_label = \"C\")\n",
    "g2_toy.add_edge(0,1,edge_label = 1)\n",
    "g2_toy.add_edge(1,2,edge_label = 1)"
   ]
  },
  {
   "cell_type": "code",
   "execution_count": 18,
   "id": "84951938",
   "metadata": {},
   "outputs": [
    {
     "data": {
      "text/plain": [
       "(4, 3)"
      ]
     },
     "execution_count": 18,
     "metadata": {},
     "output_type": "execute_result"
    }
   ],
   "source": [
    "len(g1_toy.nodes()),len(g2_toy.nodes())"
   ]
  },
  {
   "cell_type": "code",
   "execution_count": 5,
   "id": "29ffcf47",
   "metadata": {},
   "outputs": [
    {
     "data": {
      "text/plain": [
       "(<AxesSubplot:>, <AxesSubplot:>)"
      ]
     },
     "execution_count": 5,
     "metadata": {},
     "output_type": "execute_result"
    },
    {
     "data": {
      "image/png": "[encoded data removed]",
      "text/plain": [
       "<Figure size 1008x432 with 2 Axes>"
      ]
     },
     "metadata": {},
     "output_type": "display_data"
    }
   ],
   "source": [
    "draw_pair_graph(g1_toy,g2_toy)"
   ]
  },
  {
   "cell_type": "markdown",
   "id": "8abc33e6",
   "metadata": {},
   "source": [
    "Here the 3 sets of costs of edits operations are define as follow :"
   ]
  },
  {
   "cell_type": "code",
   "execution_count": 11,
   "id": "a47751c8",
   "metadata": {},
   "outputs": [],
   "source": [
    "cost1 = {'n_ins':4,'n_sub':2,'n_del':4,'e_ins':1,'e_sub':1,'e_del':1}\n",
    "cost2 = {'n_ins':4,'n_sub':2,'n_del':4,'e_ins':2,'e_sub':1,'e_del':2}"
   ]
  },
  {
   "cell_type": "markdown",
   "id": "42fbffc1",
   "metadata": {},
   "source": [
    "### a) The C Matrix :"
   ]
  },
  {
   "cell_type": "markdown",
   "id": "74ef136d",
   "metadata": {},
   "source": [
    "Implement a function that returns the cost matrix $\\textbf{C}$ of size (N1+N2,N1+N2), where N1 and N2 are the number of nodes in G1 and G2 respectively.\n",
    "\n",
    "$$\n",
    "\\textbf{C}_{G_1,G_2}= (c_{i,j}) = \\left\\{\n",
    "    \\begin{array}{ll}\n",
    "        cost_{n\\_sub(i,j)}  \\text{ if } i \\leq N_1 \\text{ and } j \\leq N_2 \\\\\n",
    "        cost_{n\\_del(i)}  \\text{ if } i \\leq N_1 \\text{ and } j = N_2+i \\\\\n",
    "        cost_{n\\_ins(j)}  \\text{ if } j \\leq N_2 \\text{ and } i = N_1+j \\\\\n",
    "        0 \\text{ if } i > N_1 \\text{ and } j > N_2 \\\\\n",
    "        \\infty \\text{ otherwise.}\n",
    "    \\end{array}\n",
    "\\right.\n",
    "$$\n",
    "\n",
    "An example of output for the toy problem with cost1 (the infinite values are replaced by 100):\n",
    "\n",
    "\n",
    "    [[  2.,   2.,   2.,   4., 100., 100., 100.],\n",
    "    [  2.,   0.,   0., 100.,   4., 100., 100.],\n",
    "    [  2.,   2.,   2., 100., 100.,   4., 100.],\n",
    "    [  0.,   2.,   2., 100., 100., 100.,   4.],\n",
    "    [  4., 100., 100.,   0.,   0.,   0.,   0.],\n",
    "    [100.,   4., 100.,   0.,   0.,   0.,   0.],\n",
    "    [100., 100.,   4.,   0.,   0.,   0.,   0.]]"
   ]
  },
  {
   "cell_type": "code",
   "execution_count": null,
   "id": "17fbc92a",
   "metadata": {},
   "outputs": [],
   "source": [
    "def cost_matrix_c(g1,g2,cost):\n",
    "    inf_value = 100\n",
    "    \n",
    "    N1, N2 = (len(g1.nodes()), len(g2.nodes()))\n",
    "    size = N1 + N2\n",
    "    c = np.full((size, size), inf_value)\n",
    "    print(c, c.shape)\n",
    "    \n",
    "    labels1 = nx.get_node_attributes(g1, 'node_label')\n",
    "    labels2 = nx.get_node_attributes(g2, 'node_label')\n",
    "    \n",
    "    print(labels1, labels2)\n",
    "    for i in range(N1):\n",
    "        for j in range(N2):\n",
    "            if labels1[i] == labels2[j]:\n",
    "                c[i][j] = 0\n",
    "            else:\n",
    "                c[i][j] = cost['n_sub']\n",
    "    \n",
    "    \n",
    "    for i in range(N1):\n",
    "        c[i][N2 + i] = cost['n_del']\n",
    "    \n",
    "    for j in range(N2):\n",
    "        c[N1 + j, j] = cost['n_ins']\n",
    "        \n",
    "    for i in range(N1, size):\n",
    "        for j in range(N2, size):\n",
    "            c[i][j] = 0\n",
    "\n",
    "    print(c)\n",
    "\n",
    "\n"
   ]
  },
  {
   "cell_type": "code",
   "execution_count": 27,
   "id": "5914ede9",
   "metadata": {},
   "outputs": [
    {
     "name": "stdout",
     "output_type": "stream",
     "text": [
      "[[100 100 100 100 100 100 100]\n",
      " [100 100 100 100 100 100 100]\n",
      " [100 100 100 100 100 100 100]\n",
      " [100 100 100 100 100 100 100]\n",
      " [100 100 100 100 100 100 100]\n",
      " [100 100 100 100 100 100 100]\n",
      " [100 100 100 100 100 100 100]] (7, 7)\n",
      "{0: 'O', 1: 'C', 2: 'O', 3: 'N'} {0: 'N', 1: 'C', 2: 'C'}\n",
      "[[  2   2   2   4 100 100 100]\n",
      " [  2   0   0 100   4 100 100]\n",
      " [  2   2   2 100 100   4 100]\n",
      " [  0   2   2 100 100 100   4]\n",
      " [  4 100 100   0   0   0   0]\n",
      " [100   4 100   0   0   0   0]\n",
      " [100 100   4   0   0   0   0]]\n"
     ]
    }
   ],
   "source": [
    "cost_matrix_c(g1_toy,g2_toy,cost1)"
   ]
  },
  {
   "cell_type": "markdown",
   "id": "839c142a",
   "metadata": {},
   "source": [
    "### b) The edges cost matrices :"
   ]
  },
  {
   "cell_type": "markdown",
   "id": "4cd449e5",
   "metadata": {},
   "source": [
    "Implement a function which takes as arguments: the pair of graphs G1 and G2, n1 and n2 the node identifiers of the current node match, and cost, the set of matching costs.\n",
    "The function will return a cost matrix of size (d1+d2,d1+d2), where d1 and d2 are the degrees of nodes n1 and n2 respectively.\n",
    "$$\n",
    "\\text bf{C_edge}_{(G_1,G_2,n1,n2)}= (c\\_edge_{i,j}) = \\left\\{\n",
    "    \\begin{array}{ll}\n",
    "        cost_{e\\_sub(i,j)}  \\text{ if } i \\leq d_1 \\text{ and } j \\leq d_2 \\\\\n",
    "        cost_{e\\_del(i)}  \\text{ if } i \\leq d_1 \\text{ and } j = d_2+i \\\\\n",
    "        cost_{e\\_ins(j)}  \\text{ if } j \\leq d_2 \\text{ and } i = d_1+j \\\\\n",
    "        0 \\text{ if } i > d_1 \\text{ and } j > d_2 \\\\\n",
    "        \\infty \\text{ otherwise.}\n",
    "    \\end{array}\n",
    "\\right.\n",
    "$$"
   ]
  },
  {
   "cell_type": "code",
   "execution_count": 8,
   "id": "5874f7d9",
   "metadata": {},
   "outputs": [],
   "source": [
    "def edge_matrix_cost(g1,g2,n1,n2,cost):\n",
    "    return c_edge"
   ]
  },
  {
   "cell_type": "markdown",
   "id": "c7929cf3",
   "metadata": {},
   "source": [
    "### c) The C* matrix :"
   ]
  },
  {
   "cell_type": "markdown",
   "id": "47e2d15a",
   "metadata": {},
   "source": [
    "Now we want to compute a better fitting cost estimation matrix that takes into account both node and edge operation costs.\n",
    "\n",
    "To do this we will use the Linear Sum Assignment Problem (LSAP) solver.\n",
    "\n",
    "By introducing a square cost matrix $\\textbf{C}$ of size $N$, which describes the cost of a bipartite matching, and a permutation matrix $\\textbf{X} = (x_{i,j}) $ also of size $N$, as follows:\n",
    "\n",
    "$$\n",
    "    x_{i,j} = \\left\\{\n",
    "    \\begin{array}{ll}\n",
    "        1 \\text{ if the row i is matched to the column j} \\\\\n",
    "        0 \\text{ otherwise }\n",
    "    \\end{array}\n",
    "    \\right.\n",
    "$$\n",
    "\n",
    "We can define LSAP solution as :\n",
    "$$\n",
    "        LSAP_{cost}({\\textbf{C}}) = \\min_{\\textbf{X}} \\sum_{i=1}^{N}\\sum_{j=1}^{N}c_{i,j}x_{i,j}\\\\\n",
    "         s.t. \\sum_{i=1}^{N}x_{i,j} = 1 \\\\     \n",
    "           \\sum_{j=1}^{N}x_{i,j} = 1\n",
    "$$    \n",
    "$$   \n",
    "           x_{i,j} \\in \\left\\{0,1\\right\\} \\forall(i,j) \\in [1,...,N] \n",
    "$$\n",
    "\n",
    "With $ LSAP_{cost}({\\textbf{C}})$ the minimum cost of the optimal matching performed on $\\textbf{C}$.\n",
    "\n",
    "You can install a library with the LSAP solver : aka Jonker-Volgenant Algorithm, by using the command :\n",
    "\n",
    "    pip install lap\n",
    "\n",
    "The implementation comes from : https://github.com/gatagat/lap , you can also find some documentation about the solver on the git.\n",
    "\n",
    "Implement a function that returns the cost matrix $\\textbf{C}^*$ of size (N1+N2,N1+N2) where N1 and N2 are the number of nodes in G1 and G2 respectively.\n",
    "\n",
    "$$\n",
    "\\textbf{C*}_{G_1,G_2}(i,j)= \\left\\{\n",
    "    \\begin{array}{ll}\n",
    "        \\textbf{C}_{G_1,G_2}(i,j) + LSAP_{cost}(\\textbf{C_edge}_{(G_1,G_2,i,j)}) \\mbox{ if } i \\leq N_1 \\mbox{ and } j \\leq N_2 \\\\\n",
    "        \\textbf{C}_{G_1,G_2}(i,j) + (deg(i) \\times cost_{e\\_del(i)})  \\mbox{ if } i \\leq N_1 \\mbox{ and } j = N_2+i \\\\\n",
    "        \\textbf{C}_{G_1,G_2}(i,j) + (deg(j) \\times cost_{e\\_ins(j)})  \\mbox{ if } j \\leq N_2 \\mbox{ and } i = N_1+j \\\\\n",
    "        0 \\mbox{ if } i > N_1 \\mbox{ and } j > N_2 \\\\\n",
    "        \\infty \\mbox{ otherwise.}\n",
    "    \\end{array}\n",
    "\\right. \n",
    "$$\n",
    "\n",
    "Example of $\\textbf{C}^*$ matrix for the toy problem with the cost1 :\n",
    "\n",
    "    [[  2.,   3.,   2.,   5., 100., 100., 100.],\n",
    "    [  4.,   1.,   2., 100.,   7., 100., 100.],\n",
    "    [  3.,   2.,   3., 100., 100.,   6., 100.],\n",
    "    [  1.,   2.,   3., 100., 100., 100.,   6.],\n",
    "    [  5., 100., 100.,   0.,   0.,   0.,   0.],\n",
    "    [100.,   6., 100.,   0.,   0.,   0.,   0.],\n",
    "    [100., 100.,   5.,   0.,   0.,   0.,   0.]])"
   ]
  },
  {
   "cell_type": "code",
   "execution_count": 9,
   "id": "53190a9f",
   "metadata": {},
   "outputs": [],
   "source": [
    "from lap import lapjv"
   ]
  },
  {
   "cell_type": "code",
   "execution_count": 10,
   "id": "9d56dfe4",
   "metadata": {},
   "outputs": [],
   "source": [
    "def cost_matrix_cstar(g1,g2,cost):\n",
    "     return cstar"
   ]
  },
  {
   "cell_type": "markdown",
   "id": "89d301ef",
   "metadata": {},
   "source": [
    "## 2) Upper Bound :"
   ]
  },
  {
   "cell_type": "markdown",
   "id": "21ca97c4",
   "metadata": {},
   "source": [
    "Now we want to compute an upper bound on the GED from the $\\textbf{C}^*$ matrix.\n",
    "\n",
    "We can do this again using an LSAP solver. As you may have noticed, lapjv() returns the minimum matching cost, but also the indices of the best matching themselves, as follows :\n",
    "\n",
    "    min_cost,col_ind_bestmatch,raw_ind_bestmatch = lapjv(cost_mat)\n",
    "\n",
    "You can now copy/paste your cost_path() function from the $\\textbf{A}^*$ practical work into the GED_lib library.\n",
    "\n",
    "Implement a function that takes as input both graphs G1 and G2 and the cost set.\n",
    "\n",
    "    First compute C* and use lapjv on C*,\n",
    "    then transform the resulting matching into an edit path,\n",
    "    then use your cost_path() function on the resulting path.\n",
    "    Return the path and it's associated cost.\n",
    "\n",
    "\n",
    "This cost is an upper bound of the GED, why?\n",
    "\n",
    "Example of output path and UB for the toy problem with cost1 :\n",
    "\n",
    "    path = [[ 0,  2],[ 1,  1],[ 2, -1],[ 3,  0]]\n",
    "    UB = 8\n"
   ]
  },
  {
   "cell_type": "code",
   "execution_count": 11,
   "id": "bc941b4b",
   "metadata": {},
   "outputs": [],
   "source": [
    "import GED_lib\n",
    "def upper_bound(g1,g2,cost):\n",
    "    return path,UB"
   ]
  },
  {
   "cell_type": "markdown",
   "id": "2af65b21",
   "metadata": {},
   "source": [
    "## 3) Lower Bound :"
   ]
  },
  {
   "cell_type": "markdown",
   "id": "f3196830",
   "metadata": {},
   "source": [
    "We will see how to compute a lower bound on the GED. The idea is to underestimate the edge cost matching.\n",
    "To do this, we will first compute a new matrix cost $\\textbf{C}_{LB}$ similar to $\\textbf{C}^*$ with a 1/2 factor in the edge cost estimation."
   ]
  },
  {
   "cell_type": "markdown",
   "id": "42f95278",
   "metadata": {},
   "source": [
    "$$\n",
    "\\textbf{C}_{LB}(i,j)= \\left\\{\n",
    "    \\begin{array}{ll}\n",
    "        \\text bf{C}_{G_1,G_2}(i,j) + LSAP_{cost}(1/2 \\times \\text bf{C_edge}_{(G_1,G_2,i,j)}) \\text{ if } i \\leq N_1 \\text{ and } j \\leq N_2 \\\\\n",
    "        \\textbf{C}_{G_1,G_2}(i,j) + (1/2 \\times deg(i) \\times cost_{e\\_del(i)})  \\text{ if } i \\leq N_1 \\text{ and } j = N_2+i \\\\\n",
    "        \\textbf{C}_{G_1,G_2}(i,j) + (1/2 \\times deg(j) \\times cost_{e\\_ins(j)})  \\text{ if } j \\leq N_2 \\text{ and } i = N_1+j \\\\\n",
    "        0 \\text{ if } i > N_1 \\text{ and } j > N_2 \\\\\n",
    "        \\infty \\text{ otherwise.}\n",
    "    \\end{array}\n",
    "\\right. \n",
    "$$"
   ]
  },
  {
   "cell_type": "markdown",
   "id": "6f5f6403",
   "metadata": {},
   "source": [
    "Then $LB = LSAP_{cost}(\\textbf{C}_{LB})$."
   ]
  },
  {
   "cell_type": "code",
   "execution_count": 12,
   "id": "9d40b27f",
   "metadata": {},
   "outputs": [],
   "source": [
    "def lower_bound(g1,g2,cost):\n",
    "    return LB"
   ]
  },
  {
   "cell_type": "markdown",
   "id": "20079e31",
   "metadata": {},
   "source": [
    "## 4) A* with BPGED heuristic :"
   ]
  },
  {
   "cell_type": "markdown",
   "id": "91a2a563",
   "metadata": {},
   "source": [
    "We can now use the lower bound as a heuristic in the A* function.\n",
    "\n",
    "Modify your lower bound function, to adapt to nodes that are not already matched in the remaining part to explore (partial matching) and insert it as a heuristic in your A* function."
   ]
  },
  {
   "cell_type": "code",
   "execution_count": 13,
   "id": "93096054",
   "metadata": {},
   "outputs": [
    {
     "data": {
      "text/plain": [
       "{'g0': <networkx.classes.graph.Graph at 0x7f95b54519d0>,\n",
       " 'g1': <networkx.classes.graph.Graph at 0x7f95b4c0ea30>,\n",
       " 'g2': <networkx.classes.graph.Graph at 0x7f95b49dad60>,\n",
       " 'g3': <networkx.classes.graph.Graph at 0x7f95b49dafa0>,\n",
       " 'g4': <networkx.classes.graph.Graph at 0x7f95b49dae80>,\n",
       " 'g5': <networkx.classes.graph.Graph at 0x7f95b49daf10>}"
      ]
     },
     "execution_count": 13,
     "metadata": {},
     "output_type": "execute_result"
    }
   ],
   "source": [
    "path = './data'\n",
    "data = graph_loader(path)\n",
    "data"
   ]
  },
  {
   "cell_type": "code",
   "execution_count": 14,
   "id": "abb2a046",
   "metadata": {},
   "outputs": [],
   "source": [
    "df = ..."
   ]
  },
  {
   "cell_type": "code",
   "execution_count": 49,
   "id": "2a16f9e6",
   "metadata": {},
   "outputs": [],
   "source": [
    "def lower_bound_path(g1,g2,cost,path):\n",
    "    return LB_path"
   ]
  },
  {
   "cell_type": "code",
   "execution_count": 50,
   "id": "7ffcccf2",
   "metadata": {},
   "outputs": [],
   "source": [
    "def A_star_BPGED(g1,g2,cost):\n",
    "    return(ged,path)"
   ]
  },
  {
   "cell_type": "markdown",
   "id": "62b634d4",
   "metadata": {},
   "source": [
    "## 5) Experiments :"
   ]
  },
  {
   "cell_type": "markdown",
   "id": "93095276",
   "metadata": {},
   "source": [
    "Now that your tools are ready, you should fill a data frame with the pairs of the 6 graphs in the database.\n",
    "\n",
    "For each pair, compute the upper bound, the lower bound and the GED of the pairs with BPGED and your A* with the heuristic for cost2.\n",
    "\n",
    "Verify that LB and UB are a lower and upper bounds of the GED by plotting them on a figure.\n",
    "\n",
    "Show how fast your A* algorithm has improved with the heuristic."
   ]
  }
 ],
 "metadata": {
  "kernelspec": {
   "display_name": "Python 3",
   "language": "python",
   "name": "python3"
  },
  "language_info": {
   "codemirror_mode": {
    "name": "ipython",
    "version": 3
   },
   "file_extension": ".py",
   "mimetype": "text/x-python",
   "name": "python",
   "nbconvert_exporter": "python",
   "pygments_lexer": "ipython3",
   "version": "3.12.5"
  }
 },
 "nbformat": 4,
 "nbformat_minor": 5
}
