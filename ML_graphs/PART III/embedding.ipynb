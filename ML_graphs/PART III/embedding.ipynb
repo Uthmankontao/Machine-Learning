{
 "cells": [
  {
   "cell_type": "markdown",
   "id": "87358aa7",
   "metadata": {},
   "source": [
    "In a Python Notebook, implement the functions that are able to provide the following graph embeddings:\n",
    "\n",
    "    Only count the number of vertices for each possible label value (slide 23)\n",
    "    Add the number of edges with two specific labels at end vertices (slide 24)\n",
    "    Graph probing (add the count for edge structures) (slide 26)\n",
    "    Choose one of the two embedding function :\n",
    "        Count the number of occurrences of graph patterns. The graph pattern dictionnary is given as a parameter\n",
    "        Count the number of occurences of all non-isomorphic pattern whose number of edges is lower than $n$. $n$ is given as a parameter (slide 35)\n",
    "    Count the number of cycles of length 3, 4 and 5 (Slide 38)\n",
    "\n",
    "Apply a classification algorithm (knn for example) based on these embeddings with the provided datasets :\n",
    "\n",
    "    molhiv dataset from OGB.\n",
    "    Alkane\n",
    "    Benzene"
   ]
  },
  {
   "cell_type": "code",
   "execution_count": 1,
   "id": "60091283",
   "metadata": {},
   "outputs": [],
   "source": [
    "import networkx as nx"
   ]
  },
  {
   "cell_type": "code",
   "execution_count": 37,
   "id": "6ce3ebec",
   "metadata": {},
   "outputs": [],
   "source": [
    "G = nx.Graph()\n",
    "G.add_node(0,node_label = \"O\")\n",
    "G.add_node(1,node_label = \"C\")\n",
    "G.add_node(2,node_label = \"O\")\n",
    "G.add_node(3,node_label = \"N\")\n",
    "G.add_edge(0,1,edge_label = \"a\")\n",
    "G.add_edge(1,2,edge_label = \"b\")\n",
    "G.add_edge(2,3,edge_label = \"c\")\n",
    "G.add_edge(3,1,edge_label = \"d\")"
   ]
  },
  {
   "cell_type": "code",
   "execution_count": 38,
   "id": "e0b056e4",
   "metadata": {},
   "outputs": [],
   "source": [
    "def count_nodes_for_label(graph):\n",
    "    count, g = {}, dict(graph.nodes(data=True))\n",
    "    labels = [g[_][\"node_label\"] for _ in g.keys()]\n",
    "    for _ in labels:\n",
    "        count[_] = 0\n",
    "    for node, data in graph.nodes(data=True):\n",
    "        if data.get(\"node_label\") in labels:\n",
    "            count[data.get(\"node_label\")] += 1       \n",
    "    return count"
   ]
  },
  {
   "cell_type": "code",
   "execution_count": 36,
   "id": "ad620bc6",
   "metadata": {},
   "outputs": [
    {
     "name": "stdout",
     "output_type": "stream",
     "text": [
      "{'O': 2, 'C': 1, 'N': 1}\n"
     ]
    }
   ],
   "source": [
    "lab = [\"O\", \"C\", \"N\"]\n",
    "print(count_nodes_for_label(G))"
   ]
  },
  {
   "cell_type": "code",
   "execution_count": 65,
   "id": "698343c5",
   "metadata": {},
   "outputs": [],
   "source": [
    "def count_edges_for_label(graph):\n",
    "    count, edges = {}, list(graph.edges(data=True))\n",
    "    labels = [edges[_][2]['edge_label'] for _ in range(len(edges))]\n",
    "    for _ in labels:\n",
    "        count[_] = 0\n",
    "    for i,j,data in graph.edges(data=True):\n",
    "        if data.get(\"edge_label\") in labels:\n",
    "            count[data.get(\"edge_label\")] += 1\n",
    "    return count"
   ]
  },
  {
   "cell_type": "code",
   "execution_count": 66,
   "id": "c098b9dc",
   "metadata": {},
   "outputs": [
    {
     "name": "stdout",
     "output_type": "stream",
     "text": [
      "{'a': 1, 'b': 1, 'd': 1, 'c': 1}\n"
     ]
    }
   ],
   "source": [
    "print(count_edges_for_label(G))"
   ]
  },
  {
   "cell_type": "code",
   "execution_count": null,
   "id": "bb7c0b3b",
   "metadata": {},
   "outputs": [],
   "source": []
  }
 ],
 "metadata": {
  "kernelspec": {
   "display_name": "Python 3",
   "language": "python",
   "name": "python3"
  },
  "language_info": {
   "codemirror_mode": {
    "name": "ipython",
    "version": 3
   },
   "file_extension": ".py",
   "mimetype": "text/x-python",
   "name": "python",
   "nbconvert_exporter": "python",
   "pygments_lexer": "ipython3",
   "version": "3.12.5"
  }
 },
 "nbformat": 4,
 "nbformat_minor": 5
}
