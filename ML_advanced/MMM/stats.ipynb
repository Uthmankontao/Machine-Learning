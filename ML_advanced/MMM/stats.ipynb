{
 "cells": [
  {
   "cell_type": "markdown",
   "id": "53684a31",
   "metadata": {},
   "source": [
    "TP5: Le but du TP est d’étudier le chemin de régularisation du Lasso."
   ]
  },
  {
   "cell_type": "code",
   "execution_count": 2,
   "id": "cbd92eb8",
   "metadata": {},
   "outputs": [
    {
     "name": "stdout",
     "output_type": "stream",
     "text": [
      "22.5\n",
      "131.25\n"
     ]
    }
   ],
   "source": [
    "import numpy as np\n",
    "\n",
    "x = np.array([5,10,15,20,25,30,35,40])\n",
    "y = np.array([13,23,34,44,50,65,75,90])\n",
    "print(x.mean())\n",
    "print(x.var())"
   ]
  },
  {
   "cell_type": "code",
   "execution_count": 3,
   "id": "615f9e50",
   "metadata": {},
   "outputs": [
    {
     "data": {
      "text/plain": [
       "np.float64(22.5)"
      ]
     },
     "execution_count": 3,
     "metadata": {},
     "output_type": "execute_result"
    }
   ],
   "source": [
    "x_bar = 1/len(x)*(np.sum(x))\n",
    "x_bar"
   ]
  },
  {
   "cell_type": "code",
   "execution_count": 4,
   "id": "78ef0914",
   "metadata": {},
   "outputs": [
    {
     "data": {
      "text/plain": [
       "np.float64(131.25)"
      ]
     },
     "execution_count": 4,
     "metadata": {},
     "output_type": "execute_result"
    }
   ],
   "source": [
    "var_x = 1/len(x)*(np.sum((x-x_bar)**2, axis=0))\n",
    "var_x"
   ]
  },
  {
   "cell_type": "code",
   "execution_count": 5,
   "id": "b7bc6f73",
   "metadata": {},
   "outputs": [
    {
     "data": {
      "text/plain": [
       "np.float64(49.25)"
      ]
     },
     "execution_count": 5,
     "metadata": {},
     "output_type": "execute_result"
    }
   ],
   "source": [
    "y_bar = 1/len(y)*np.sum(y)\n",
    "y_bar"
   ]
  },
  {
   "cell_type": "code",
   "execution_count": 6,
   "id": "1d846c63",
   "metadata": {},
   "outputs": [],
   "source": [
    "var_y = 1/len(x)*(np.sum((y-y_bar)**2, axis=0))"
   ]
  },
  {
   "cell_type": "code",
   "execution_count": 7,
   "id": "ac6f7018",
   "metadata": {},
   "outputs": [
    {
     "data": {
      "text/plain": [
       "np.float64(280.625)"
      ]
     },
     "execution_count": 7,
     "metadata": {},
     "output_type": "execute_result"
    }
   ],
   "source": [
    "cov_xy = 1/len(x) * (np.sum((x-x_bar)*(y-y_bar)))\n",
    "cov_xy"
   ]
  },
  {
   "cell_type": "code",
   "execution_count": 8,
   "id": "781827db",
   "metadata": {},
   "outputs": [
    {
     "data": {
      "text/plain": [
       "np.float64(0.9963249406436278)"
      ]
     },
     "execution_count": 8,
     "metadata": {},
     "output_type": "execute_result"
    }
   ],
   "source": [
    "corr_xy = cov_xy/np.sqrt(var_x*var_y)\n",
    "corr_xy"
   ]
  },
  {
   "cell_type": "code",
   "execution_count": 11,
   "id": "e21a88e0",
   "metadata": {},
   "outputs": [
    {
     "ename": "LinAlgError",
     "evalue": "0-dimensional array given. Array must be at least two-dimensional",
     "output_type": "error",
     "traceback": [
      "\u001b[31m---------------------------------------------------------------------------\u001b[39m",
      "\u001b[31mLinAlgError\u001b[39m                               Traceback (most recent call last)",
      "\u001b[36mCell\u001b[39m\u001b[36m \u001b[39m\u001b[32mIn[11]\u001b[39m\u001b[32m, line 1\u001b[39m\n\u001b[32m----> \u001b[39m\u001b[32m1\u001b[39m beta = \u001b[43mnp\u001b[49m\u001b[43m.\u001b[49m\u001b[43mlinalg\u001b[49m\u001b[43m.\u001b[49m\u001b[43msolve\u001b[49m\u001b[43m(\u001b[49m\u001b[43mx\u001b[49m\u001b[43m.\u001b[49m\u001b[43mT\u001b[49m\u001b[38;5;129;43m@x\u001b[39;49m\u001b[43m,\u001b[49m\u001b[43m \u001b[49m\u001b[43mx\u001b[49m\u001b[43m.\u001b[49m\u001b[43mT\u001b[49m\u001b[38;5;129;43m@y\u001b[39;49m\u001b[43m)\u001b[49m\n",
      "\u001b[36mFile \u001b[39m\u001b[32mc:\\Users\\Ousmane Kontao\\AppData\\Local\\Programs\\Python\\Python312\\Lib\\site-packages\\numpy\\linalg\\_linalg.py:395\u001b[39m, in \u001b[36msolve\u001b[39m\u001b[34m(a, b)\u001b[39m\n\u001b[32m    322\u001b[39m \u001b[38;5;250m\u001b[39m\u001b[33;03m\"\"\"\u001b[39;00m\n\u001b[32m    323\u001b[39m \u001b[33;03mSolve a linear matrix equation, or system of linear scalar equations.\u001b[39;00m\n\u001b[32m    324\u001b[39m \n\u001b[32m   (...)\u001b[39m\u001b[32m    392\u001b[39m \n\u001b[32m    393\u001b[39m \u001b[33;03m\"\"\"\u001b[39;00m\n\u001b[32m    394\u001b[39m a, _ = _makearray(a)\n\u001b[32m--> \u001b[39m\u001b[32m395\u001b[39m \u001b[43m_assert_stacked_2d\u001b[49m\u001b[43m(\u001b[49m\u001b[43ma\u001b[49m\u001b[43m)\u001b[49m\n\u001b[32m    396\u001b[39m _assert_stacked_square(a)\n\u001b[32m    397\u001b[39m b, wrap = _makearray(b)\n",
      "\u001b[36mFile \u001b[39m\u001b[32mc:\\Users\\Ousmane Kontao\\AppData\\Local\\Programs\\Python\\Python312\\Lib\\site-packages\\numpy\\linalg\\_linalg.py:195\u001b[39m, in \u001b[36m_assert_stacked_2d\u001b[39m\u001b[34m(*arrays)\u001b[39m\n\u001b[32m    193\u001b[39m \u001b[38;5;28;01mfor\u001b[39;00m a \u001b[38;5;129;01min\u001b[39;00m arrays:\n\u001b[32m    194\u001b[39m     \u001b[38;5;28;01mif\u001b[39;00m a.ndim < \u001b[32m2\u001b[39m:\n\u001b[32m--> \u001b[39m\u001b[32m195\u001b[39m         \u001b[38;5;28;01mraise\u001b[39;00m LinAlgError(\u001b[33m'\u001b[39m\u001b[38;5;132;01m%d\u001b[39;00m\u001b[33m-dimensional array given. Array must be \u001b[39m\u001b[33m'\u001b[39m\n\u001b[32m    196\u001b[39m                 \u001b[33m'\u001b[39m\u001b[33mat least two-dimensional\u001b[39m\u001b[33m'\u001b[39m % a.ndim)\n",
      "\u001b[31mLinAlgError\u001b[39m: 0-dimensional array given. Array must be at least two-dimensional"
     ]
    }
   ],
   "source": [
    "beta = np.linalg.solve(x.T@x, x.T@y)"
   ]
  },
  {
   "cell_type": "code",
   "execution_count": null,
   "id": "f06792d8",
   "metadata": {},
   "outputs": [
    {
     "data": {
      "image/png": "[encoded data removed]",
      "text/plain": [
       "<Figure size 800x500 with 1 Axes>"
      ]
     },
     "metadata": {},
     "output_type": "display_data"
    }
   ],
   "source": [
    "import matplotlib.pyplot as plt\n",
    "plt.figure(figsize=(8,5))\n",
    "plt.scatter(x,y)\n",
    "plt.show()"
   ]
  }
 ],
 "metadata": {
  "kernelspec": {
   "display_name": "Python 3",
   "language": "python",
   "name": "python3"
  },
  "language_info": {
   "codemirror_mode": {
    "name": "ipython",
    "version": 3
   },
   "file_extension": ".py",
   "mimetype": "text/x-python",
   "name": "python",
   "nbconvert_exporter": "python",
   "pygments_lexer": "ipython3",
   "version": "3.12.9"
  }
 },
 "nbformat": 4,
 "nbformat_minor": 5
}
