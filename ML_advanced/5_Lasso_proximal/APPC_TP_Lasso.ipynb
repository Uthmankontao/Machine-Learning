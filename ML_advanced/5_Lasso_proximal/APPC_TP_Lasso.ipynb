{
  "cells": [
    {
      "cell_type": "markdown",
      "metadata": {
        "id": "fgTvci2D-pqK"
      },
      "source": [
        "# **The objectives of the lab**\n",
        "\n",
        "The purpose of this lab is to implement and compare different software solution to the Lasso.\n",
        "\n",
        "\n",
        "## 1. Define the problem\n",
        "\n",
        "1.1 Générez les données du problème. Une matrice $X$ de taille $n=200$ individus et $p=2n$ variables. Vous prendrez soin de centrer la matrice et de la normaliser de sorte que $\\sum_{i=1}^n X_{ij}^2 = 1$. Un vecteur de paramètre $w_{opt} \\in R^{p}$  dont $k=5$ seulement sont non nulles. Un vecteur de réponses $y = X w_{opt} + \\varepsilon \\in R^n$ où $\\varepsilon$ est un bruit Gaussien entrainant un rapport signal sur bruit de 2."
      ]
    },
    {
      "cell_type": "code",
      "execution_count": null,
      "metadata": {
        "id": "2tcsMJw--hLn"
      },
      "outputs": [],
      "source": [
        "import numpy as np\n",
        "import pandas as pd\n",
        "import matplotlib.pyplot as plt\n",
        "import cvxpy as cvx\n",
        "import time\n",
        "\n",
        "n = 200              # number of examples (you can try with n = 1000 and n = 5000 (it may take some time...))\n",
        "p = 2*n              # dimensionality of the problem\n",
        "\n",
        "k = 5                # number of active variables\n",
        "# creating features and normalizing them (normalization is not necessary)\n",
        "np.random.seed(0)\n",
        "X = np.random.randn(n,p)\n",
        "X = (X - np.mean(X,axis = 0))/np.std(X,axis = 0)\n",
        "\n",
        "t = np.arange(0,p)/(p-1);   # bulding the variance matrix !\n",
        "S = np.zeros((p,p))\n",
        "nn = 0.00001\n",
        "for i in range(p):\n",
        "    S[i,:] = np.exp(-(t-t[i])**2/nn);\n",
        "\n",
        "X = X@(S**.5)\n",
        "#X = X/np.std(X,axis = 0)\n",
        "X = X/np.linalg.norm(X,axis=0)\n",
        "X = np.array(X, order='F')\n",
        "\n",
        "# generating optimal weights\n",
        "ind = np.random.choice(p, k, replace=False)\n",
        "weights = np.random.randn(k)\n",
        "weights += 0.1+np.sign(weights)  # to get large enough weight\n",
        "\n",
        "wopt = np.zeros(p)\n",
        "wopt[ind] = weights\n",
        "\n",
        "# generating output by X@w + noise\n",
        "rsnr = 2\n",
        "z = X[:,ind]@weights\n",
        "stdnoise = np.std(z)/rsnr\n",
        "y = z + stdnoise*np.random.randn(n)"
      ]
    },
    {
      "cell_type": "code",
      "execution_count": null,
      "metadata": {
        "colab": {
          "base_uri": "https://localhost:8080/"
        },
        "id": "Lz5IFUJHEprO",
        "outputId": "c502cc3e-abbd-40b4-e5a8-38a24b19fb99"
      },
      "outputs": [
        {
          "data": {
            "text/plain": [
              "['CVXOPT', 'ECOS', 'ECOS_BB', 'GLPK', 'GLPK_MI', 'OSQP', 'SCIPY', 'SCS']"
            ]
          },
          "execution_count": 6,
          "metadata": {},
          "output_type": "execute_result"
        }
      ],
      "source": [
        "cvx.installed_solvers()"
      ]
    },
    {
      "cell_type": "markdown",
      "metadata": {
        "id": "KSDvxEX3_YVa"
      },
      "source": [
        "1.2 Vérifiez que les données générées ont bien les propriétés attentudes."
      ]
    },
    {
      "cell_type": "code",
      "execution_count": null,
      "metadata": {
        "colab": {
          "base_uri": "https://localhost:8080/",
          "height": 71
        },
        "id": "HKkVgbt6QXIm",
        "outputId": "9b853a2f-30f8-4416-8836-8a3c52f7d199"
      },
      "outputs": [
        {
          "name": "stdout",
          "output_type": "stream",
          "text": [
            "8.604228440844963e-20\n",
            "2.3387244454010023\n"
          ]
        },
        {
          "data": {
            "text/plain": [
              "-0.007828481395382846"
            ]
          },
          "execution_count": 2,
          "metadata": {
            "tags": []
          },
          "output_type": "execute_result"
        }
      ],
      "source": [
        "print(np.mean(X))\n",
        "epsi = 1e-10\n",
        "np.abs(np.mean(X)) < epsi\n",
        "#..."
      ]
    },
    {
      "cell_type": "markdown",
      "metadata": {
        "id": "fc2lt9oUQPoy"
      },
      "source": [
        "1.3 Calculez l'erreur de généralisation \"in sample\" de la méthode des moindres carrés,"
      ]
    },
    {
      "cell_type": "code",
      "execution_count": null,
      "metadata": {
        "colab": {
          "base_uri": "https://localhost:8080/",
          "height": 35
        },
        "id": "IXmRGXjSQRXC",
        "outputId": "bc76e861-1e47-4fd5-f6a2-451a45ff3779"
      },
      "outputs": [
        {
          "name": "stdout",
          "output_type": "stream",
          "text": [
            "Test error for the LS regression: 2.7231\n"
          ]
        }
      ],
      "source": [
        "#...\n",
        "print(\"Test error for the LS regression: {:0.4f}\".format(e_ls))"
      ]
    },
    {
      "cell_type": "code",
      "execution_count": null,
      "metadata": {
        "colab": {
          "base_uri": "https://localhost:8080/",
          "height": 320
        },
        "id": "bwfnyAkeg8UO",
        "outputId": "ac68f079-3edc-495c-f834-d94296476172"
      },
      "outputs": [
        {
          "data": {
            "image/png": "[encoded data removed]",
            "text/plain": [
              "<Figure size 1080x360 with 1 Axes>"
            ]
          },
          "metadata": {
            "needs_background": "light",
            "tags": []
          },
          "output_type": "display_data"
        }
      ],
      "source": [
        "plt.figure(figsize = (15,5))\n",
        "plt.plot(wopt,'o')\n",
        "plt.plot(b_ls,'.')\n",
        "plt.show()"
      ]
    },
    {
      "cell_type": "markdown",
      "metadata": {
        "id": "_CGcibmRQbGd"
      },
      "source": [
        "1.4 Ecrire une fonction Eval\\_coef(X,z,coeff), qui calcule l'erreur de généralisation \"in sample\"  "
      ]
    },
    {
      "cell_type": "code",
      "execution_count": null,
      "metadata": {
        "colab": {
          "base_uri": "https://localhost:8080/",
          "height": 35
        },
        "id": "0lcHToGcQev4",
        "outputId": "6bc0840e-6a7d-4723-d492-69c731d99383"
      },
      "outputs": [
        {
          "data": {
            "text/plain": [
              "2.7231183598715685"
            ]
          },
          "execution_count": 5,
          "metadata": {
            "tags": []
          },
          "output_type": "execute_result"
        }
      ],
      "source": [
        "def Eval_coef(X,z,coeff):\n",
        "  return #...\n",
        "\n",
        "Eval_coef(X,z,b_ls)"
      ]
    },
    {
      "cell_type": "markdown",
      "metadata": {
        "id": "1ZoFVo7lQk_K"
      },
      "source": [
        "## 2.  Différentes manières de résoudre le problème du Lasso\n",
        "\n",
        "2.1 Ecrire un programme CVX résolvant, pour $\\lambda = 10^{-3} n$.\n",
        "\t$$\n",
        "\\displaystyle\\min_{\\beta \\in R^p}  \\; J_\\lambda(\\beta) \\quad \\mbox{avec} \\quad J_\\lambda(\\beta) =  \\displaystyle \\tfrac{1}{2} \\| X \\beta - y\\|^2  + \\lambda   \\displaystyle \\sum_{j=1}^p |\\beta_j|\n",
        "$$\n",
        "\n",
        "Aide en ligne pour CVXpy :    \n",
        "https://www.cvxpy.org/     \n",
        "https://www.cvxpy.org/examples/machine_learning/lasso_regression.html    \n",
        "https://github.com/cvxgrp/cvxpy/blob/master/examples/lasso.py     \n",
        "http://web.cvxr.com/cvx/beta/doc/CVX.pdf     \n"
      ]
    },
    {
      "cell_type": "markdown",
      "metadata": {
        "id": "WR7asO7rQ6j1"
      },
      "source": [
        "2.2 Vérifiez que la solution obtenue est bien optimale. Pour ce faire on vérifiera que $0 \\in \\partial J_\\lambda(\\beta)$, that is\n",
        "\n",
        "if $g = X^\\top (X\\beta - y)$\n",
        "$$\n",
        "\\begin{array}{c l}\n",
        "g_j + \\lambda sign(\\beta_j) = 0 & \\text{ if } \\beta_j \\neq 0\\\\\n",
        "|g_j| < \\lambda & \\text{ if } \\beta_j = 0\n",
        "\\end{array}\n",
        "$$"
      ]
    },
    {
      "cell_type": "markdown",
      "metadata": {
        "id": "NmxrFA39Rjs-"
      },
      "source": [
        "2.3 Ecrire une programme CVX résolvant la formulation suivant de Lasso,  avec\n",
        "une valeur de  $t$ permettant d'obtenir les mêmes résultats que le problème précédent.\n",
        "\t\\begin{equation}\n",
        "\t\\left\\{\n",
        "\t\\begin{array}{cc}\n",
        "\t\t\\displaystyle\\min_{\\beta \\in R^p}  & \\displaystyle \\tfrac{1}{2} \\| X \\beta - y\\|^2 \\\\\n",
        "\t\t\\mbox{ avec } & \\displaystyle \\sum_{j=1}^p |\\beta_j| \\leq t\n",
        "\t\\end{array}\n",
        "\t\\right.\n",
        "\\end{equation}\n"
      ]
    },
    {
      "cell_type": "markdown",
      "metadata": {
        "id": "M5UUA-mmRvn8"
      },
      "source": [
        "2.4 résoudre le problème du  Lasso de la question précédente (2.3) en réécrivant le cout comme une fonctionnelle quadratique de la forme\n",
        "\t$$\n",
        "\t\\tfrac{1}{2} \\beta^\\top D \\beta + \\beta^\\top e\n",
        "\t$$\n",
        "\toù la matrice $D$ et le vecteur $e$ sont à préciser\n"
      ]
    },
    {
      "cell_type": "code",
      "execution_count": null,
      "metadata": {
        "id": "uDz25iSQR3wQ"
      },
      "outputs": [],
      "source": []
    },
    {
      "cell_type": "markdown",
      "metadata": {
        "id": "LP4h2B9DR3_q"
      },
      "source": [
        "2.5 réécrire le Lasso comme un programme quadratique sous sa forme standard.\n",
        "\t\\begin{equation}\n",
        "\t\\left\\{\n",
        "\t\\begin{array}{cc}\n",
        "\t\\displaystyle\\min_{x \\in R^n}  & \\displaystyle \\tfrac{1}{2} x^\\top H x + x^\\top c \\\\\n",
        "\t\\mbox{ avec } &A x \\leq b\n",
        "\t\\end{array}\n",
        "\t\\right.\n",
        "\t\\end{equation}\n",
        "\n",
        "où les matrice $H$ et $A$ et les vecteur $c$ et $b$ sont à préciser.\n",
        "\n",
        "2.6  proposez un code CVX permettant de résoudre le Lasso réécrit comme un QP standard.\n"
      ]
    },
    {
      "cell_type": "markdown",
      "metadata": {
        "id": "dFD3odAfSPAC"
      },
      "source": [
        "2.7 comment résoudre ce même QP de manière plus efficace ?\n",
        "\n",
        "2.8 résoudre, à l'aide de CVX,  le problème dual du Lasso\n",
        "\t$$\n",
        "\t\\left\\{\n",
        "\t\\begin{array}{cl}\n",
        "\t\t\\displaystyle \\min_{\\beta} & \\frac{1}{2} \\|X  \\beta \\|^2 \\\\\n",
        "\t\ts.t.   & \\|X^\\top(X\\beta-y)\\|_\\infty \\leq \\lambda\n",
        "\t\\end{array}\n",
        "\t\\right.\n",
        "\t$$"
      ]
    },
    {
      "cell_type": "markdown",
      "metadata": {
        "id": "UlFojIOSSaJh"
      },
      "source": [
        "# TP2 sur le Lasso\n",
        "## 1.  Coder l'algorithme component wise pour résoudre le  Lasso\n",
        "\n"
      ]
    },
    {
      "cell_type": "code",
      "execution_count": null,
      "metadata": {
        "colab": {
          "base_uri": "https://localhost:8080/",
          "height": 35
        },
        "id": "YwcQBd1KJgD7",
        "outputId": "86a8db26-2474-4eaf-a298-d87de279230c"
      },
      "outputs": [
        {
          "name": "stdout",
          "output_type": "stream",
          "text": [
            "8.985228110911246\n"
          ]
        }
      ],
      "source": [
        "w = np.zeros(p)\n",
        "print(lasso_cost(X,y,w,lamb))"
      ]
    },
    {
      "cell_type": "markdown",
      "metadata": {
        "id": "ud_OESc8SkjS"
      },
      "source": [
        "## 2. Coder l'algorithme reweigthed least square pour résoudre le  Lasso"
      ]
    },
    {
      "cell_type": "code",
      "execution_count": null,
      "metadata": {
        "id": "6zFWzUrjikYV"
      },
      "outputs": [],
      "source": []
    },
    {
      "cell_type": "markdown",
      "metadata": {
        "id": "pPqfr7lqilGN"
      },
      "source": [
        "## 3.  Le  Lasso pour sklearn\n",
        "\n",
        "https://scikit-learn.org/stable/modules/generated/sklearn.linear_model.Lasso.html"
      ]
    },
    {
      "cell_type": "code",
      "execution_count": null,
      "metadata": {
        "id": "W5-HN8M5iq0z"
      },
      "outputs": [],
      "source": []
    },
    {
      "cell_type": "markdown",
      "metadata": {
        "id": "uDEWaa2Qi8WR"
      },
      "source": [
        "## 4. comparez toutes les solutions en terme de temps de calcul et de performances. Proposez et justifiez des recommandations sur la méthode à utiliser pour résoudre un problème de lasso.\n"
      ]
    }
  ],
  "metadata": {
    "colab": {
      "provenance": []
    },
    "kernelspec": {
      "display_name": "Python 3",
      "name": "python3"
    }
  },
  "nbformat": 4,
  "nbformat_minor": 0
}
