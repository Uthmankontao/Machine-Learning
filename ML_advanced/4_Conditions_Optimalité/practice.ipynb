{
 "cells": [
  {
   "cell_type": "markdown",
   "id": "53684a31",
   "metadata": {},
   "source": [
    "TP5: Le but du TP est d’étudier le chemin de régularisation du Lasso."
   ]
  },
  {
   "cell_type": "markdown",
   "id": "2b88d3a4",
   "metadata": {},
   "source": [
    "1. Reprendre les données ’prostate’ du premier TP les centrer et les réduire"
   ]
  },
  {
   "cell_type": "code",
   "execution_count": 20,
   "id": "2f38ba54",
   "metadata": {},
   "outputs": [
    {
     "name": "stdout",
     "output_type": "stream",
     "text": [
      "Training set : n = 67 samples and p = 8 dimensions\n",
      "Test set : n = 30 samples and p = 8 dimensions\n"
     ]
    }
   ],
   "source": [
    "import pandas as pd\n",
    "import matplotlib.pyplot as plt\n",
    "import numpy as np\n",
    "url_data = \"https://web.stanford.edu/~hastie/ElemStatLearn/datasets/prostate.data\"\n",
    "df = pd.read_csv(url_data, delimiter='\\t')\n",
    "variables = df.columns[1:9]\n",
    "df[variables] = df[variables].apply(lambda x: (x - x.mean()) / x.std())\n",
    "# Get the training and test sets\n",
    "Y_train = df.loc[df[\"train\"]==\"T\", 'lpsa'].to_numpy()\n",
    "X_train = df.loc[df[\"train\"]==\"T\", variables].to_numpy()\n",
    "print(\"Training set : n = {} samples and p = {} dimensions\".format(X_train.shape[0],\n",
    "X_train.shape[1]))\n",
    "Y_test = df.loc[df[\"train\"]==\"F\", 'lpsa'].to_numpy()\n",
    "X_test = df.loc[df[\"train\"]==\"F\", variables].to_numpy()\n",
    "print(\"Test set : n = {} samples and p = {} dimensions\".format(X_test.shape[0], X_test.\n",
    "shape[1]))\n",
    "Xn = (X_train - X_train.mean(axis=0))/X_train.std(axis=0)\n",
    "n, p = Xn.shape\n",
    "yn = (Y_train - Y_train.mean())/Y_train.std()"
   ]
  },
  {
   "cell_type": "markdown",
   "id": "4b17bee1",
   "metadata": {},
   "source": [
    "2. les conditions d’optimalités du Lasso"
   ]
  },
  {
   "cell_type": "markdown",
   "id": "a048e88d",
   "metadata": {},
   "source": [
    "a) Résoudre le problème du Lasso sous la forme"
   ]
  },
  {
   "cell_type": "code",
   "execution_count": 69,
   "id": "f1341f59",
   "metadata": {},
   "outputs": [
    {
     "name": "stdout",
     "output_type": "stream",
     "text": [
      "solutio Lasso : [ 0.465  0.156 -0.000  0.002  0.079 -0.000 -0.000 -0.000]\n",
      "coefficients non nuls : [ True  True False  True  True False False False]\n"
     ]
    }
   ],
   "source": [
    "import cvxpy as cvx\n",
    "lamda = 23.38\n",
    "b = cvx.Variable(p)\n",
    "obj = cvx.Minimize(cvx.sum_squares(Xn@b - yn) + lamda*cvx.norm(b, 1))\n",
    "prob = cvx.Problem(obj)\n",
    "prob.solve(solver=cvx.SCS, eps=1e-5)\n",
    "\n",
    "print(\"solutio Lasso :\", b.value)\n",
    "print(\"coefficients non nuls :\", np.abs(b.value) > 1e-5)"
   ]
  },
  {
   "cell_type": "markdown",
   "id": "29eaebba",
   "metadata": {},
   "source": [
    "b) démontrez numériquement que cette solution est bien optimale"
   ]
  },
  {
   "cell_type": "code",
   "execution_count": 81,
   "id": "0ff27c6b",
   "metadata": {},
   "outputs": [
    {
     "name": "stdout",
     "output_type": "stream",
     "text": [
      "j=0: g(0.5931444842602372) lamda * 1.0 = 23.380000000000095\n",
      "j=1: g(0.24229135512063343) lamda * 1.0 = 23.38000000000004\n",
      "j=2: g(-0.11802302729236946) lamda * -1.0 = -23.379999999999995\n",
      "j=3: g(0.17553030474789705) lamda * 1.0 = 23.38000000000001\n",
      "j=4: g(0.2563474603941618) lamda * 1.0 = 23.38000000000004\n",
      "j=5: g(-0.23928030279060755) lamda * -1.0 = -23.37999999999994\n",
      "j=6: g(-0.01731521148277503) lamda * -1.0 = -23.37999999999997\n",
      "j=7: g(0.22962676117415126) lamda * 1.0 = 23.38000000000002\n"
     ]
    }
   ],
   "source": [
    "b_hat = b.value\n",
    "grad = 2 * Xn.T @ (Xn @ b_hat - yn)\n",
    "for j in range(p):\n",
    "    if abs(b_hat[j]) > 1e-5:\n",
    "        print(f\"j={j}: g({b_hat[j]}) lamda * {np.sign(b_hat[j])} =\", grad[j] + lamda * np.sign(b_hat[j]))\n",
    "    else:\n",
    "        print(f\"j={j}:\", abs(grad[j]), \"<=\", lamda)"
   ]
  },
  {
   "cell_type": "code",
   "execution_count": 80,
   "id": "d126042d",
   "metadata": {},
   "outputs": [
    {
     "name": "stdout",
     "output_type": "stream",
     "text": [
      "15.576785771030359\n"
     ]
    }
   ],
   "source": [
    "print(max(grad / np.sign(b.value)))"
   ]
  },
  {
   "cell_type": "markdown",
   "id": "5b3edff7",
   "metadata": {},
   "source": [
    "La solution du lasso selectionne autpmatiquement 4 variables dont les coefficients sont non nuls. Pour les variables actifs la condition de stationnarité gradient en j + lamda * sign (beta j) est sensiblement egal a zero a 10**-5 pres, ce qui valide l'optimalité numérique.\n",
    "Pour les coefficients non nuls, la condition de stationnarité gradient en j <= lamda est également respectée, ce qui montre que la solution satisfait bien les conditions. Donc la solution obtenue par cvxpy est optimale pour le problème du Lasso."
   ]
  },
  {
   "cell_type": "markdown",
   "id": "4542589a",
   "metadata": {},
   "source": [
    "c)Le lasso simplifié : le lasso positif. "
   ]
  },
  {
   "cell_type": "code",
   "execution_count": null,
   "id": "203cb5b2",
   "metadata": {},
   "outputs": [
    {
     "name": "stdout",
     "output_type": "stream",
     "text": [
      "Estimation: [ 0.483  0.214 -0.000  0.146  0.186  0.000 -0.000  0.092]\n",
      "coefficients non nuls : [ True  True False  True  True False False  True]\n",
      "Lagrange multiplier lam = 2.845543665109981\n",
      "[ 0.000  0.000  12.239  0.000  0.000  9.820  2.911  0.000]\n",
      "indices nuls : [-0.000  0.000 -0.000]\n",
      "indices non nuls : [ 0.483  0.214  0.146  0.186  0.092]\n"
     ]
    }
   ],
   "source": [
    "t = np.sum(b.value)\n",
    "bc = cvx.Variable(p)\n",
    "obj = cvx.Minimize(cvx.sum_squares(Xn@bc - yn))\n",
    "c = [cvx.sum(bc) <= t, bc >= 0]\n",
    "prob = cvx.Problem(obj, c)\n",
    "prob.solve(solver=cvx.SCS, eps=1e-5)\n",
    "\n",
    "np.set_printoptions(formatter={'float': '{: 0.3f}'.format})\n",
    "print(f\"Estimation: {bc.value}\")\n",
    "print(\"coefficients non nuls :\", np.abs(bc.value) > 1e-5)\n",
    "print(f\"Lagrange multiplier lam = {c[0].dual_value}\")\n",
    "print(c[1].dual_value)\n",
    "\n",
    "indzero = np.where(bc.value <= 1e-5)\n",
    "print(\"indices nuls :\", bc.value[indzero])\n",
    "nonzero = np.where(bc.value > 1e-5)\n",
    "print(\"indices non nuls :\", bc.value[nonzero])"
   ]
  },
  {
   "cell_type": "markdown",
   "id": "e79a2276",
   "metadata": {},
   "source": [
    "3. Le plus grand λ"
   ]
  },
  {
   "cell_type": "markdown",
   "id": "5723458f",
   "metadata": {},
   "source": [
    "a. En reprenant la formulation (1), à partir de la solution des moindres carrés et en\n",
    "utilisant les conditions d’optimalités, calculer le plus petit λ tel que tous les tous les\n",
    "coefficients soient nul. Pourquoi peut-on qualifier cette valeur de \"plus grand λ\" ?<br>\n",
    "b. Quelle va être la première composante du vecteur de β non nulle à être activée"
   ]
  },
  {
   "cell_type": "code",
   "execution_count": 111,
   "id": "66e7f889",
   "metadata": {},
   "outputs": [
    {
     "name": "stdout",
     "output_type": "stream",
     "text": [
      "lambda max : 97.24278965072583\n",
      "Estimation: [ 0.007  0.000  0.000  0.000  0.000  0.000  0.000  0.000]\n"
     ]
    }
   ],
   "source": [
    "lam = np.max(np.abs(2 * Xn.T @ yn)) - 1\n",
    "print(\"lambda max :\", lam)\n",
    "b1 = cvx.Variable(p)\n",
    "obj = cvx.Minimize(cvx.sum_squares(Xn@b1 - yn) + lam*cvx.norm(b1, 1))\n",
    "prob = cvx.Problem(obj)\n",
    "prob.solve(solver=cvx.SCS, eps=1e-5)\n",
    "\n",
    "b_lasso = b1.value\n",
    "np.set_printoptions(formatter={'float': '{: 0.3f}'.format})\n",
    "print(f\"Estimation: {b_lasso}\") # en diminuant lambda, la variable qui passe de I0 à I1 est la plus significative"
   ]
  },
  {
   "cell_type": "markdown",
   "id": "11b7f317",
   "metadata": {},
   "source": [
    "4. Le plus petit λ"
   ]
  },
  {
   "cell_type": "markdown",
   "id": "054c5c60",
   "metadata": {},
   "source": [
    "a) Toujours avec la la formulation (1), calculer le plus grand λ tel que tous les tous les\n",
    "coefficients soient non nul.<br>\n",
    "b) Quelle va être a première variable à être déclarée \"non pertinente\" ?"
   ]
  },
  {
   "cell_type": "code",
   "execution_count": null,
   "id": "f42f0d14",
   "metadata": {},
   "outputs": [
    {
     "name": "stdout",
     "output_type": "stream",
     "text": [
      "V = [ 0.051  0.005 -0.026  0.017  0.028 -0.098 -0.063  0.097]\n",
      "vecteur_epsi = [ 11.595  49.010  4.460  10.099  9.162  2.446  0.275  2.377]\n",
      "Epsilon = 0.2754826798615987\n"
     ]
    }
   ],
   "source": [
    "beta_moindres_carre = np.linalg.solve(Xn.T @ Xn, Xn.T @ yn)\n",
    "v = np.linalg.solve(Xn.T@Xn, np.sign(beta_moindres_carre))\n",
    "print(f\"V = {v}\")\n",
    "beta_epsi= (beta_moindres_carre / v)\n",
    "print(f\"vecteur_epsi = {beta_epsi}\")\n",
    "epsilon = np.min(np.abs(beta_moindres_carre / v))\n",
    "print(f\"Epsilon = {epsilon}\")"
   ]
  },
  {
   "cell_type": "code",
   "execution_count": 128,
   "id": "cc8dc6ac",
   "metadata": {},
   "outputs": [
    {
     "name": "stdout",
     "output_type": "stream",
     "text": [
      "0.2754826798615987\n",
      "Estimation: [ 0.586  0.242 -0.114  0.173  0.252 -0.226 -0.009  0.216]\n"
     ]
    }
   ],
   "source": [
    "lam = epsilon\n",
    "print(lam)\n",
    "b1 = cvx.Variable(p)\n",
    "obj = cvx.Minimize(cvx.sum_squares(Xn@b1 - yn) + lam*cvx.norm(b1, 1))\n",
    "prob = cvx.Problem(obj)\n",
    "prob.solve(solver=cvx.SCS, eps=1e-5)\n",
    "\n",
    "b_lasso = b1.value\n",
    "np.set_printoptions(formatter={'float': '{: 0.3f}'.format})\n",
    "print(f\"Estimation: {b_lasso}\") # en diminuant lambda, la variable qui passe de I0 à I1 est la plus significative"
   ]
  },
  {
   "cell_type": "markdown",
   "id": "001c4dc1",
   "metadata": {},
   "source": [
    "5. Calculez et représentez graphiquement en utilisant matplotlib la totalité du chemin de régularisation en utilisant SKlearn. Vérifiez que les résultats que vous avez sont bien conformes à ceux calculées aux question précédentes.\n",
    "\n"
   ]
  },
  {
   "cell_type": "code",
   "execution_count": 137,
   "id": "e0734217",
   "metadata": {},
   "outputs": [
    {
     "name": "stdout",
     "output_type": "stream",
     "text": [
      "Nombre d'alphas : 9\n",
      "Alphas : [ 0.733  0.379  0.300  0.176  0.173  0.050  0.038  0.004  0.000]\n",
      "Taille des coefs : (8, 9)\n",
      "actives : [np.int64(0), np.int64(1), np.int64(4), np.int64(3), np.int64(7), np.int64(2), np.int64(5), np.int64(6)]\n"
     ]
    }
   ],
   "source": [
    "from sklearn.linear_model import lars_path\n",
    "alphas, active, coefs = lars_path(Xn, yn, method='lasso')\n",
    "print(f\"Nombre d'alphas : {len(alphas)}\")\n",
    "print(f\"Alphas : {alphas}\")\n",
    "print(f\"Taille des coefs : {coefs.shape}\")\n",
    "print(f\"actives : {active}\")"
   ]
  },
  {
   "cell_type": "code",
   "execution_count": 138,
   "id": "2b6a9bd5",
   "metadata": {},
   "outputs": [
    {
     "data": {
      "image/png": "[encoded data removed]",
      "text/plain": [
       "<Figure size 1000x600 with 1 Axes>"
      ]
     },
     "metadata": {},
     "output_type": "display_data"
    }
   ],
   "source": [
    "import matplotlib.pyplot as plt\n",
    "plt.figure(figsize=(10, 6))\n",
    "for i in range(coefs.shape[0]):\n",
    "    plt.plot(alphas, coefs[i, :], label=variables[i])\n",
    "plt.xlabel(\"Alphas\")\n",
    "plt.ylabel(\"Coefficients\")\n",
    "plt.title(\"LARS Path\")\n",
    "plt.legend()\n",
    "plt.show()"
   ]
  }
 ],
 "metadata": {
  "kernelspec": {
   "display_name": "Python 3",
   "language": "python",
   "name": "python3"
  },
  "language_info": {
   "codemirror_mode": {
    "name": "ipython",
    "version": 3
   },
   "file_extension": ".py",
   "mimetype": "text/x-python",
   "name": "python",
   "nbconvert_exporter": "python",
   "pygments_lexer": "ipython3",
   "version": "3.12.9"
  }
 },
 "nbformat": 4,
 "nbformat_minor": 5
}
