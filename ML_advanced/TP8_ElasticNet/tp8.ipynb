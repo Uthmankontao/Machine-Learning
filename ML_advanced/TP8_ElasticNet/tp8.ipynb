{
 "cells": [
  {
   "cell_type": "markdown",
   "id": "3b3c9510",
   "metadata": {},
   "source": [
    "Ex_1"
   ]
  },
  {
   "cell_type": "code",
   "execution_count": 48,
   "id": "6ecedc6f",
   "metadata": {},
   "outputs": [],
   "source": [
    "import numpy as np\n",
    "import pandas as pd\n",
    "import seaborn as sns\n",
    "import matplotlib.pyplot as plt"
   ]
  },
  {
   "cell_type": "markdown",
   "id": "69f38ac8",
   "metadata": {},
   "source": [
    "a) Prepare data"
   ]
  },
  {
   "cell_type": "code",
   "execution_count": 59,
   "id": "b717a52f",
   "metadata": {},
   "outputs": [
    {
     "data": {
      "text/html": [
       "<div>\n",
       "<style scoped>\n",
       "    .dataframe tbody tr th:only-of-type {\n",
       "        vertical-align: middle;\n",
       "    }\n",
       "\n",
       "    .dataframe tbody tr th {\n",
       "        vertical-align: top;\n",
       "    }\n",
       "\n",
       "    .dataframe thead th {\n",
       "        text-align: right;\n",
       "    }\n",
       "</style>\n",
       "<table border=\"1\" class=\"dataframe\">\n",
       "  <thead>\n",
       "    <tr style=\"text-align: right;\">\n",
       "      <th></th>\n",
       "      <th>Unnamed: 0</th>\n",
       "      <th>lcavol</th>\n",
       "      <th>lweight</th>\n",
       "      <th>age</th>\n",
       "      <th>lbph</th>\n",
       "      <th>svi</th>\n",
       "      <th>lcp</th>\n",
       "      <th>gleason</th>\n",
       "      <th>pgg45</th>\n",
       "      <th>lpsa</th>\n",
       "      <th>train</th>\n",
       "    </tr>\n",
       "  </thead>\n",
       "  <tbody>\n",
       "    <tr>\n",
       "      <th>0</th>\n",
       "      <td>1</td>\n",
       "      <td>-0.579818</td>\n",
       "      <td>2.769459</td>\n",
       "      <td>50</td>\n",
       "      <td>-1.386294</td>\n",
       "      <td>0</td>\n",
       "      <td>-1.386294</td>\n",
       "      <td>6</td>\n",
       "      <td>0</td>\n",
       "      <td>-0.430783</td>\n",
       "      <td>T</td>\n",
       "    </tr>\n",
       "    <tr>\n",
       "      <th>1</th>\n",
       "      <td>2</td>\n",
       "      <td>-0.994252</td>\n",
       "      <td>3.319626</td>\n",
       "      <td>58</td>\n",
       "      <td>-1.386294</td>\n",
       "      <td>0</td>\n",
       "      <td>-1.386294</td>\n",
       "      <td>6</td>\n",
       "      <td>0</td>\n",
       "      <td>-0.162519</td>\n",
       "      <td>T</td>\n",
       "    </tr>\n",
       "    <tr>\n",
       "      <th>2</th>\n",
       "      <td>3</td>\n",
       "      <td>-0.510826</td>\n",
       "      <td>2.691243</td>\n",
       "      <td>74</td>\n",
       "      <td>-1.386294</td>\n",
       "      <td>0</td>\n",
       "      <td>-1.386294</td>\n",
       "      <td>7</td>\n",
       "      <td>20</td>\n",
       "      <td>-0.162519</td>\n",
       "      <td>T</td>\n",
       "    </tr>\n",
       "    <tr>\n",
       "      <th>3</th>\n",
       "      <td>4</td>\n",
       "      <td>-1.203973</td>\n",
       "      <td>3.282789</td>\n",
       "      <td>58</td>\n",
       "      <td>-1.386294</td>\n",
       "      <td>0</td>\n",
       "      <td>-1.386294</td>\n",
       "      <td>6</td>\n",
       "      <td>0</td>\n",
       "      <td>-0.162519</td>\n",
       "      <td>T</td>\n",
       "    </tr>\n",
       "    <tr>\n",
       "      <th>4</th>\n",
       "      <td>5</td>\n",
       "      <td>0.751416</td>\n",
       "      <td>3.432373</td>\n",
       "      <td>62</td>\n",
       "      <td>-1.386294</td>\n",
       "      <td>0</td>\n",
       "      <td>-1.386294</td>\n",
       "      <td>6</td>\n",
       "      <td>0</td>\n",
       "      <td>0.371564</td>\n",
       "      <td>T</td>\n",
       "    </tr>\n",
       "    <tr>\n",
       "      <th>...</th>\n",
       "      <td>...</td>\n",
       "      <td>...</td>\n",
       "      <td>...</td>\n",
       "      <td>...</td>\n",
       "      <td>...</td>\n",
       "      <td>...</td>\n",
       "      <td>...</td>\n",
       "      <td>...</td>\n",
       "      <td>...</td>\n",
       "      <td>...</td>\n",
       "      <td>...</td>\n",
       "    </tr>\n",
       "    <tr>\n",
       "      <th>92</th>\n",
       "      <td>93</td>\n",
       "      <td>2.830268</td>\n",
       "      <td>3.876396</td>\n",
       "      <td>68</td>\n",
       "      <td>-1.386294</td>\n",
       "      <td>1</td>\n",
       "      <td>1.321756</td>\n",
       "      <td>7</td>\n",
       "      <td>60</td>\n",
       "      <td>4.385147</td>\n",
       "      <td>T</td>\n",
       "    </tr>\n",
       "    <tr>\n",
       "      <th>93</th>\n",
       "      <td>94</td>\n",
       "      <td>3.821004</td>\n",
       "      <td>3.896909</td>\n",
       "      <td>44</td>\n",
       "      <td>-1.386294</td>\n",
       "      <td>1</td>\n",
       "      <td>2.169054</td>\n",
       "      <td>7</td>\n",
       "      <td>40</td>\n",
       "      <td>4.684443</td>\n",
       "      <td>T</td>\n",
       "    </tr>\n",
       "    <tr>\n",
       "      <th>94</th>\n",
       "      <td>95</td>\n",
       "      <td>2.907447</td>\n",
       "      <td>3.396185</td>\n",
       "      <td>52</td>\n",
       "      <td>-1.386294</td>\n",
       "      <td>1</td>\n",
       "      <td>2.463853</td>\n",
       "      <td>7</td>\n",
       "      <td>10</td>\n",
       "      <td>5.143124</td>\n",
       "      <td>F</td>\n",
       "    </tr>\n",
       "    <tr>\n",
       "      <th>95</th>\n",
       "      <td>96</td>\n",
       "      <td>2.882564</td>\n",
       "      <td>3.773910</td>\n",
       "      <td>68</td>\n",
       "      <td>1.558145</td>\n",
       "      <td>1</td>\n",
       "      <td>1.558145</td>\n",
       "      <td>7</td>\n",
       "      <td>80</td>\n",
       "      <td>5.477509</td>\n",
       "      <td>T</td>\n",
       "    </tr>\n",
       "    <tr>\n",
       "      <th>96</th>\n",
       "      <td>97</td>\n",
       "      <td>3.471966</td>\n",
       "      <td>3.974998</td>\n",
       "      <td>68</td>\n",
       "      <td>0.438255</td>\n",
       "      <td>1</td>\n",
       "      <td>2.904165</td>\n",
       "      <td>7</td>\n",
       "      <td>20</td>\n",
       "      <td>5.582932</td>\n",
       "      <td>F</td>\n",
       "    </tr>\n",
       "  </tbody>\n",
       "</table>\n",
       "<p>97 rows × 11 columns</p>\n",
       "</div>"
      ],
      "text/plain": [
       "    Unnamed: 0    lcavol   lweight  age      lbph  svi       lcp  gleason  \\\n",
       "0            1 -0.579818  2.769459   50 -1.386294    0 -1.386294        6   \n",
       "1            2 -0.994252  3.319626   58 -1.386294    0 -1.386294        6   \n",
       "2            3 -0.510826  2.691243   74 -1.386294    0 -1.386294        7   \n",
       "3            4 -1.203973  3.282789   58 -1.386294    0 -1.386294        6   \n",
       "4            5  0.751416  3.432373   62 -1.386294    0 -1.386294        6   \n",
       "..         ...       ...       ...  ...       ...  ...       ...      ...   \n",
       "92          93  2.830268  3.876396   68 -1.386294    1  1.321756        7   \n",
       "93          94  3.821004  3.896909   44 -1.386294    1  2.169054        7   \n",
       "94          95  2.907447  3.396185   52 -1.386294    1  2.463853        7   \n",
       "95          96  2.882564  3.773910   68  1.558145    1  1.558145        7   \n",
       "96          97  3.471966  3.974998   68  0.438255    1  2.904165        7   \n",
       "\n",
       "    pgg45      lpsa train  \n",
       "0       0 -0.430783     T  \n",
       "1       0 -0.162519     T  \n",
       "2      20 -0.162519     T  \n",
       "3       0 -0.162519     T  \n",
       "4       0  0.371564     T  \n",
       "..    ...       ...   ...  \n",
       "92     60  4.385147     T  \n",
       "93     40  4.684443     T  \n",
       "94     10  5.143124     F  \n",
       "95     80  5.477509     T  \n",
       "96     20  5.582932     F  \n",
       "\n",
       "[97 rows x 11 columns]"
      ]
     },
     "execution_count": 59,
     "metadata": {},
     "output_type": "execute_result"
    }
   ],
   "source": [
    "url_data = \"https://web.stanford.edu/~hastie/ElemStatLearn/datasets/prostate.data\"\n",
    "df = pd.read_csv(url_data, delimiter='\\t')\n",
    "df"
   ]
  },
  {
   "cell_type": "markdown",
   "id": "c086f935",
   "metadata": {},
   "source": [
    "b) Extract and normalize the explicative variables"
   ]
  },
  {
   "cell_type": "code",
   "execution_count": 60,
   "id": "d9e9e5e1",
   "metadata": {},
   "outputs": [],
   "source": [
    "variables = df.columns[1:9]\n",
    "df[variables] = df[variables].apply(lambda x: (x - x.mean()) / x.std())"
   ]
  },
  {
   "cell_type": "markdown",
   "id": "d612d5f7",
   "metadata": {},
   "source": [
    "<!-- Is it wise to normalize these data? -->c) --> Yes it is because all the variables might be on the same scale"
   ]
  },
  {
   "cell_type": "markdown",
   "id": "0e2dc270",
   "metadata": {},
   "source": [
    "d) Split the dataset into training and test data"
   ]
  },
  {
   "cell_type": "code",
   "execution_count": 61,
   "id": "19124273",
   "metadata": {},
   "outputs": [
    {
     "name": "stdout",
     "output_type": "stream",
     "text": [
      "Training set : n = 67 samples and p = 8 dimensions\n",
      "Test set : n = 30 samples and p = 8 dimensions\n"
     ]
    }
   ],
   "source": [
    "Y_train = df.loc[df[\"train\"]==\"T\", 'lpsa'].to_numpy()\n",
    "X_train = df.loc[df[\"train\"]==\"T\", variables].to_numpy()\n",
    "print(\"Training set : n = {} samples and p = {} dimensions\".format(X_train.shape[0],X_train.shape[1]))\n",
    "Y_test = df.loc[df[\"train\"]==\"F\", 'lpsa'].to_numpy()\n",
    "X_test = df.loc[df[\"train\"]==\"F\", variables].to_numpy()\n",
    "print(\"Test set : n = {} samples and p = {} dimensions\".format(X_test.shape[0], X_test.shape[1]))"
   ]
  },
  {
   "cell_type": "markdown",
   "id": "5aa89346",
   "metadata": {},
   "source": [
    "2. Recherchez la solution du lasso telle qu’elle a été publiée dans le livre (comme dans le TP1)"
   ]
  },
  {
   "cell_type": "code",
   "execution_count": 42,
   "id": "e551fc52",
   "metadata": {},
   "outputs": [
    {
     "name": "stdout",
     "output_type": "stream",
     "text": [
      "solutio Lasso : [ 0.5619  0.2002 -0.      0.0348  0.1188 -0.     -0.      0.0201]\n",
      "coefficients non nuls : [ True  True False  True  True False False  True]\n",
      "MSE sur le jeu de test : 0.46328012580657446\n"
     ]
    }
   ],
   "source": [
    "import cvxpy as cvx\n",
    "Xn = (X_train - X_train.mean(axis=0)) / X_train.std(axis=0)\n",
    "yn = Y_train - Y_train.mean()\n",
    "n, p = Xn.shape\n",
    "lamda = 23.39\n",
    "b = cvx.Variable(p)\n",
    "obj = cvx.Minimize(cvx.sum_squares(Xn@b - yn) + lamda*cvx.norm(b, 1))\n",
    "prob = cvx.Problem(obj)\n",
    "prob.solve(solver=cvx.SCS, eps=1e-5)\n",
    "\n",
    "b.value = np.round(b.value, 4)\n",
    "print(\"solutio Lasso :\", b.value)\n",
    "print(\"coefficients non nuls :\", np.abs(b.value) > 1e-5)\n",
    "\n",
    "# calculer les prédictions sur le jeu de test\n",
    "X_test = (X_test - X_train.mean(axis=0)) / X_train.std(axis=0)\n",
    "y_pred = X_test @ b.value + Y_train.mean()\n",
    "mse = np.mean((y_pred - Y_test)**2)\n",
    "print(\"MSE sur le jeu de test :\", mse)"
   ]
  },
  {
   "cell_type": "markdown",
   "id": "42aa7601",
   "metadata": {},
   "source": [
    "3. Recherchez la solution de l’elastic net"
   ]
  },
  {
   "cell_type": "code",
   "execution_count": 43,
   "id": "f6c1d540",
   "metadata": {},
   "outputs": [
    {
     "name": "stdout",
     "output_type": "stream",
     "text": [
      "solution Elastic Net : [ 0.5718  0.2326  0.      0.1148  0.1783 -0.      0.      0.0717]\n",
      "coefficients non nuls : [ True  True False  True  True False False  True]\n",
      "MSE sur le jeu de test : 0.45901539555975385\n"
     ]
    }
   ],
   "source": [
    "# 3. Recherchez la solution de l’elastic net\n",
    "# Jel(β) = 1/2 ‖Xβ − y‖2 + λ‖β‖1 + γ/2 ‖β‖2\n",
    "# a) resolution avec cvxpy et lamda = 6 et gamma = 0.005\n",
    "\n",
    "lamda = 6\n",
    "gamma = 0.005\n",
    "b = cvx.Variable(p)\n",
    "obj = cvx.Minimize(1/2 * cvx.sum_squares(Xn@b - yn) + lamda * cvx.norm(b, 1) + gamma/2 * cvx.norm(b, 2)**2)\n",
    "prob = cvx.Problem(obj)\n",
    "prob.solve(solver=cvx.SCS, eps=1e-5)\n",
    "\n",
    "b.value = np.round(b.value, 4)\n",
    "print(\"solution Elastic Net :\", b.value)\n",
    "print(\"coefficients non nuls :\", np.abs(b.value) > 1e-5)\n",
    "#prédictions sur le jeu de test\n",
    "X_test = (X_test - X_train.mean(axis=0)) / X_train.std(axis=0)\n",
    "y_pred = X_test @ b.value + Y_train.mean()\n",
    "mse = np.mean((y_pred - Y_test)**2)\n",
    "print(\"MSE sur le jeu de test :\", mse)"
   ]
  },
  {
   "cell_type": "code",
   "execution_count": 44,
   "id": "35502e16",
   "metadata": {},
   "outputs": [
    {
     "name": "stdout",
     "output_type": "stream",
     "text": [
      "solution Lasso : [ 0.5719  0.2326  0.      0.1148  0.1783 -0.      0.      0.0716]\n",
      "coefficients non nuls : [ True  True False  True  True False False  True]\n",
      "MSE sur le jeu de test : 0.466035193114146\n",
      "RMSE sur le jeu de test : 0.6826677032891961\n"
     ]
    }
   ],
   "source": [
    "# b)comme un problème de lasso\n",
    "lamda = 6\n",
    "b = cvx.Variable(p)\n",
    "obj = cvx.Minimize(1/2 * cvx.sum_squares(Xn@b - yn) + lamda * cvx.norm(b, 1))\n",
    "prob = cvx.Problem(obj)\n",
    "prob.solve(solver=cvx.SCS, eps=1e-5)\n",
    "\n",
    "b.value = np.round(b.value, 4)\n",
    "print(\"solution Lasso :\", b.value)\n",
    "print(\"coefficients non nuls :\", np.abs(b.value) > 1e-5)\n",
    "#prédictions sur le jeu de test\n",
    "X_test = (X_test - X_train.mean(axis=0)) / X_train.std(axis=0)\n",
    "y_pred = X_test @ b.value + Y_train.mean()\n",
    "mse = np.mean((y_pred - Y_test)**2)\n",
    "print(\"MSE sur le jeu de test :\", mse)\n",
    "RMSE = np.sqrt(mse)\n",
    "print(\"RMSE sur le jeu de test :\", RMSE)"
   ]
  },
  {
   "cell_type": "code",
   "execution_count": 62,
   "id": "e70d9746",
   "metadata": {},
   "outputs": [],
   "source": [
    "Xn = (X_train - X_train.mean(axis=0)) / X_train.std(axis=0)\n",
    "yn = Y_train - Y_train.mean()"
   ]
  },
  {
   "cell_type": "code",
   "execution_count": 63,
   "id": "468ae904",
   "metadata": {},
   "outputs": [
    {
     "name": "stdout",
     "output_type": "stream",
     "text": [
      "β̂_Lasso = [ 0.5836  0.2558 -0.0333  0.1632  0.208  -0.0036  0.      0.1078]\n"
     ]
    }
   ],
   "source": [
    "lamda = 3 \n",
    "\n",
    "b = cvx.Variable(p)\n",
    "lasso_obj = cvx.Minimize(0.5 * cvx.sum_squares(Xn @ b - yn) + lamda * cvx.norm(b, 1))\n",
    "lasso_prob = cvx.Problem(lasso_obj)\n",
    "lasso_prob.solve(solver=cvx.SCS, eps=1e-5)\n",
    "beta_lasso = b.value\n",
    "print(\"β̂_Lasso =\", np.round(beta_lasso, 4))"
   ]
  },
  {
   "cell_type": "code",
   "execution_count": 65,
   "id": "422d7b03",
   "metadata": {},
   "outputs": [
    {
     "name": "stdout",
     "output_type": "stream",
     "text": [
      "β̂_Lasso : [ 0.5836  0.2558 -0.0333  0.1632  0.208  -0.0036  0.      0.1078]\n",
      "α̂ : [0.8595 0.4612 0.     0.2022 0.3271 0.     0.     0.    ]\n",
      "β̂ adaptatif : [0.6566 0.2333 0.     0.0817 0.1492 0.     0.     0.    ]\n",
      "Coefficients non nuls : [ True  True False  True  True False False False]\n",
      "MSE sur le jeu de test : 0.4429260605754737\n"
     ]
    }
   ],
   "source": [
    "\n",
    "lamda = 3\n",
    "\n",
    "b = cvx.Variable(p)\n",
    "lasso_obj = cvx.Minimize(0.5 * cvx.sum_squares(Xn @ b - yn) + lamda * cvx.norm(b, 1))\n",
    "lasso_prob = cvx.Problem(lasso_obj)\n",
    "lasso_prob.solve(solver=cvx.SCS, eps=1e-5)\n",
    "beta_lasso = np.array(b.value).flatten()\n",
    "print(\"β̂_Lasso :\", np.round(beta_lasso, 4))\n",
    "\n",
    "\n",
    "w = 1 / np.sqrt(np.abs(beta_lasso) )\n",
    "W_inv = np.diag(1 / w)  \n",
    "\n",
    "\n",
    "X_new = Xn / w[np.newaxis, :] \n",
    "\n",
    "alpha = cvx.Variable(p)\n",
    "obj_adapt = cvx.Minimize(0.5 * cvx.sum_squares(X_new @ alpha - yn) + lamda * cvx.norm(alpha, 1))\n",
    "prob_adapt = cvx.Problem(obj_adapt)\n",
    "prob_adapt.solve(solver=cvx.SCS, eps=1e-5)\n",
    "alpha_hat = np.array(alpha.value).flatten()\n",
    "print(\"α̂ :\", np.round(alpha_hat, 4))\n",
    "\n",
    "beta_adapt = alpha_hat / w\n",
    "print(\"β̂ adaptatif :\", np.round(beta_adapt, 4))\n",
    "print(\"Coefficients non nuls :\", np.abs(beta_adapt) > 1e-5)\n",
    "\n",
    "X_test_n = (X_test - X_train.mean(axis=0)) / X_train.std(axis=0)\n",
    "y_pred = X_test_n @ beta_adapt + Y_train.mean()\n",
    "mse = np.mean((y_pred - Y_test)**2)\n",
    "print(\"MSE sur le jeu de test :\", mse)\n"
   ]
  }
 ],
 "metadata": {
  "kernelspec": {
   "display_name": "Python 3",
   "language": "python",
   "name": "python3"
  },
  "language_info": {
   "codemirror_mode": {
    "name": "ipython",
    "version": 3
   },
   "file_extension": ".py",
   "mimetype": "text/x-python",
   "name": "python",
   "nbconvert_exporter": "python",
   "pygments_lexer": "ipython3",
   "version": "3.12.5"
  }
 },
 "nbformat": 4,
 "nbformat_minor": 5
}
